{
 "cells": [
  {
   "cell_type": "code",
   "execution_count": 3,
   "id": "050dd678",
   "metadata": {},
   "outputs": [],
   "source": [
    "import numpy as np\n",
    "import matplotlib.pyplot as plt\n",
    "from matplotlib.offsetbox import AnchoredText\n",
    "import mplhep as hep\n",
    "from coffea.util import load\n",
    "from coffea.hist import plot,plot1d,plot2d,Interval\n",
    "import re\n",
    "from coffea import hist"
   ]
  },
  {
   "cell_type": "code",
   "execution_count": 4,
   "id": "441fc991",
   "metadata": {},
   "outputs": [
    {
     "data": {
      "text/plain": [
       "{'pt': <Hist (dataset,flav,pt) instance at 0x7f889c134e10>,\n",
       " 'eta': <Hist (dataset,flav,eta) instance at 0x7f8875fd1b10>,\n",
       " 'phi': <Hist (dataset,flav,phi) instance at 0x7f8875fd4bd0>,\n",
       " 'mass': <Hist (dataset,flav,mass) instance at 0x7f8875fd9d10>,\n",
       " 'btagCMVA': <Hist (dataset,flav,btagCMVA) instance at 0x7f88dc594710>,\n",
       " 'btagCSVV2': <Hist (dataset,flav,btagCSVV2) instance at 0x7f8875fe0b90>,\n",
       " 'btagDeepB': <Hist (dataset,flav,btagDeepB) instance at 0x7f8875fe5c90>,\n",
       " 'btagDeepC': <Hist (dataset,flav,btagDeepC) instance at 0x7f8875fe9d90>,\n",
       " 'btagDeepFlavB': <Hist (dataset,flav,btagDeepFlavB) instance at 0x7f8875fede90>,\n",
       " 'btagDeepFlavC': <Hist (dataset,flav,btagDeepFlavC) instance at 0x7f8875ff1f90>,\n",
       " 'njet': <Hist (dataset,njet) instance at 0x7f8875ff90d0>,\n",
       " 'nbjet_t': <Hist (dataset,nbjet_t) instance at 0x7f8875ff9ed0>,\n",
       " 'nbjet_m': <Hist (dataset,nbjet_m) instance at 0x7f8875ffcd10>,\n",
       " 'nbjet_l': <Hist (dataset,nbjet_l) instance at 0x7f8876000b50>,\n",
       " 'nel': <Hist (dataset,nel) instance at 0x7f8876003990>,\n",
       " 'nmu': <Hist (dataset,nmu) instance at 0x7f8876003c10>,\n",
       " 'lelpt': <Hist (dataset,lelpt) instance at 0x7f8876003ed0>,\n",
       " 'lmupt': <Hist (dataset,lmupt) instance at 0x7f8875f88110>,\n",
       " 'ljpt': <Hist (dataset,flav,ljpt) instance at 0x7f8875f88310>,\n",
       " 'ljeta': <Hist (dataset,flav,ljeta) instance at 0x7f8875f88cd0>,\n",
       " 'ljphi': <Hist (dataset,flav,ljphi) instance at 0x7f8875f8d5d0>,\n",
       " 'ljpt_etacut': <Hist (dataset,flav,ljpt_etacut) instance at 0x7f8875f8df10>,\n",
       " 'jet_pt_etacut': <Hist (dataset,flav,jet_pt_etacut) instance at 0x7f8875f91910>,\n",
       " 'jet_pt_nocut': <Hist (dataset,flav,jet_pt_nocut) instance at 0x7f8875f95290>,\n",
       " 'sljpt': <Hist (dataset,sljpt) instance at 0x7f8875f95bd0>,\n",
       " 'PV_npvsGood': <Hist (dataset,PV_npvsGood) instance at 0x7f8875f95d10>,\n",
       " 'Pileup_nTrueInt': <Hist (dataset,Pileup_nTrueInt) instance at 0x7f8875f9bad0>,\n",
       " 'ntracks': <Hist (dataset,flav,ntracks) instance at 0x7f8875f9d7d0>,\n",
       " 'SV_mass': <Hist (dataset,flav,SV_mass) instance at 0x7f8875fa21d0>,\n",
       " 'SV_dlen': <Hist (dataset,flav,SV_dlen) instance at 0x7f8875fa2b10>,\n",
       " 'SV_dlenSig': <Hist (dataset,flav,SV_dlenSig) instance at 0x7f8875fa2cd0>,\n",
       " 'SV_deltaR': <Hist (dataset,flav,SV_deltaR) instance at 0x7f8875fa2e90>,\n",
       " 'SV_pt': <Hist (dataset,flav,SV_pt) instance at 0x7f8875fa6810>,\n",
       " 'lj_btagCMVA': <Hist (dataset,flav,lj_btagCMVA) instance at 0x7f8875faa1d0>,\n",
       " 'lj_btagCSVV2': <Hist (dataset,flav,lj_btagCSVV2) instance at 0x7f8875faaad0>,\n",
       " 'lj_btagDeepB': <Hist (dataset,flav,lj_btagDeepB) instance at 0x7f8875fae450>,\n",
       " 'lj_btagDeepC': <Hist (dataset,flav,lj_btagDeepC) instance at 0x7f8875faed90>,\n",
       " 'lj_btagDeepFlavB': <Hist (dataset,flav,lj_btagDeepFlavB) instance at 0x7f8875fb46d0>,\n",
       " 'lj_btagDeepFlavC': <Hist (dataset,flav,lj_btagDeepFlavC) instance at 0x7f8875fb4fd0>,\n",
       " 'sumw': defaultdict_accumulator(float,\n",
       "                         {'Data': 4707.0,\n",
       "                          'QCD_Pt_3200toInf_2018_UL': 1000000.0,\n",
       "                          'QCD_Pt_2400to3200_2018_UL': 2988000.0,\n",
       "                          'QCD_Pt_1800to2400_2018_UL': 5491000.0,\n",
       "                          'QCD_Pt_1400to1800_2018_UL': 10670000.0,\n",
       "                          'QCD_Pt_1000to1400_2018_UL': 19730000.0,\n",
       "                          'QCD_Pt_800to1000_2018_UL': 37160000.0,\n",
       "                          'QCD_Pt_600to800_2018': 67508001.16503906,\n",
       "                          'QCD_Pt_470to600_2018_UL': 52448170.470947266,\n",
       "                          'QCD_Pt_300to470_2018_UL': 57910008.93261719,\n",
       "                          'QCD_Pt_170to300_2018_UL': 29676000.0,\n",
       "                          'QCD_Pt_80to120_2018_UL': 29688373.506835938,\n",
       "                          'QCD_Pt_50to80_2018_UL': 19493000.0,\n",
       "                          'QCD_Pt_30to50_2018_UL': 19706000.0,\n",
       "                          'QCD_Pt_15to30_2018_UL': 19991000.0})}"
      ]
     },
     "execution_count": 4,
     "metadata": {},
     "output_type": "execute_result"
    }
   ],
   "source": [
    "try1 = load('hists_QCD_QCD_Pt_sample.coffea')\n",
    "try1"
   ]
  },
  {
   "cell_type": "code",
   "execution_count": 31,
   "id": "9323367e",
   "metadata": {},
   "outputs": [
    {
     "data": {
      "text/plain": [
       "<AxesSubplot:xlabel='jet $p_{T}$ without any cut [GeV]', ylabel='Counts'>"
      ]
     },
     "execution_count": 31,
     "metadata": {},
     "output_type": "execute_result"
    },
    {
     "data": {
      "image/png": "[encoded data removed]",
      "text/plain": [
       "<Figure size 432x288 with 1 Axes>"
      ]
     },
     "metadata": {
      "needs_background": "light"
     },
     "output_type": "display_data"
    }
   ],
   "source": [
    "plot1d(try1['jet_pt_nocut'].sum('flav').sum('dataset'))"
   ]
  },
  {
   "cell_type": "code",
   "execution_count": 10,
   "id": "9517c28f",
   "metadata": {},
   "outputs": [
    {
     "data": {
      "text/plain": [
       "[62.32804762142964,\n",
       " 5.424743732873236,\n",
       " 1.6538502054145159,\n",
       " 0.0790208328340998,\n",
       " 0.003494406254212158,\n",
       " 0.00011787254268847693,\n",
       " 1.0509422827347763e-05,\n",
       " 2.321206335481779e-06,\n",
       " 7.064047362755652e-07,\n",
       " 3.7835783071464776e-07,\n",
       " 6.079662605435801e-08,\n",
       " 1.590602804589328e-08,\n",
       " 1.7526773761713522e-09,\n",
       " 1.352e-10]"
      ]
     },
     "execution_count": 10,
     "metadata": {},
     "output_type": "execute_result"
    }
   ],
   "source": [
    "x_sec = [1246000000.0,106900000.0,15700000.0,2346000.0,103700.0,6826,551.2,156.7,26.25,7.465,0.6487,0.08734,0.005237,0.0001352]\n",
    "nevents= [19991000.0,19706000.0,9493000.0,29688373.506835938,29676000.0,57910008.93261719,52448170.470947266,67508001.16503906,37160000.0,19730000.0,10670000.0,5491000.0,2988000.0,1000000.0]\n",
    "\n",
    "scales=[]\n",
    "for i in range(14):\n",
    "    scales.append(x_sec[i]/nevents[i])\n",
    "scales"
   ]
  },
  {
   "cell_type": "code",
   "execution_count": 23,
   "id": "3fb39e64",
   "metadata": {},
   "outputs": [
    {
     "data": {
      "image/png": "[encoded data removed]",
      "text/plain": [
       "<Figure size 432x288 with 1 Axes>"
      ]
     },
     "metadata": {
      "needs_background": "light"
     },
     "output_type": "display_data"
    }
   ],
   "source": [
    "hist_1 =try1['ljpt'].sum('flav').integrate('dataset', 'QCD_Pt_15to30_2018_UL')\n",
    "hist_1.scale(scales[0])\n",
    "hist_2 =try1['ljpt'].sum('flav').integrate('dataset', 'QCD_Pt_30to50_2018_UL')\n",
    "hist_2.scale(scales[1])\n",
    "hist_3 =try1['ljpt'].sum('flav').integrate('dataset', 'QCD_Pt_50to80_2018_UL')\n",
    "hist_3.scale(scales[2])\n",
    "hist_4 =try1['ljpt'].sum('flav').integrate('dataset', 'QCD_Pt_80to120_2018_UL')\n",
    "hist_4.scale(scales[3])\n",
    "hist_5 =try1['ljpt'].sum('flav').integrate('dataset', 'QCD_Pt_170to300_2018_UL')\n",
    "hist_5.scale(scales[4])\n",
    "hist_6 =try1['ljpt'].sum('flav').integrate('dataset', 'QCD_Pt_300to470_2018_UL')\n",
    "hist_6.scale(scales[5])\n",
    "hist_7 =try1['ljpt'].sum('flav').integrate('dataset', 'QCD_Pt_470to600_2018_UL')\n",
    "hist_7.scale(scales[6])\n",
    "hist_8 =try1['ljpt'].sum('flav').integrate('dataset', 'QCD_Pt_600to800_2018_UL')\n",
    "hist_8.scale(scales[7])\n",
    "hist_9 =try1['ljpt'].sum('flav').integrate('dataset', 'QCD_Pt_800to1000_2018_UL')\n",
    "hist_9.scale(scales[8])\n",
    "hist_10 =try1['ljpt'].sum('flav').integrate('dataset', 'QCD_Pt_1000to1400_2018_UL')\n",
    "hist_10.scale(scales[9])\n",
    "hist_11 =try1['ljpt'].sum('flav').integrate('dataset', 'QCD_Pt_1400to1800_2018_UL')\n",
    "hist_11.scale(scales[10])\n",
    "hist_12 =try1['ljpt'].sum('flav').integrate('dataset', 'QCD_Pt_1800to2400_2018_UL')\n",
    "hist_12.scale(scales[11])\n",
    "hist_13 =try1['ljpt'].sum('flav').integrate('dataset', 'QCD_Pt_2400to3200_2018_UL')\n",
    "hist_13.scale(scales[12])\n",
    "hist_14 =try1['ljpt'].sum('flav').integrate('dataset', 'QCD_Pt_2400toInf_2018_UL')\n",
    "hist_14.scale(scales[13])\n",
    "\n",
    "\n",
    "hist_1 = (hist_1.add(hist_2))\n",
    "hist_1 = (hist_1.add(hist_3))\n",
    "hist_1 = (hist_1.add(hist_4))\n",
    "hist_1 = (hist_1.add(hist_5))\n",
    "hist_1 = (hist_1.add(hist_6))\n",
    "hist_1 = (hist_1.add(hist_7))\n",
    "hist_1 = (hist_1.add(hist_8))\n",
    "hist_1 = (hist_1.add(hist_9))\n",
    "hist_1 = (hist_1.add(hist_10))\n",
    "hist_1 = (hist_1.add(hist_11))\n",
    "hist_1 = (hist_1.add(hist_12))\n",
    "hist_1 = (hist_1.add(hist_13))\n",
    "hist_1 = (hist_1.add(hist_14))\n",
    "\n",
    "a = plot1d(hist_1)\n",
    "a.set_ylim(1, None)\n",
    "a.set_xlim(100, 2000)\n",
    "a.set_yscale('log')"
   ]
  },
  {
   "cell_type": "code",
   "execution_count": 5,
   "id": "c84fb039",
   "metadata": {},
   "outputs": [
    {
     "data": {
      "text/plain": [
       "{'QCD_Pt_3200toInf': 0.0001352,\n",
       " 'QCD_Pt_2400to3200': 0.005237,\n",
       " 'QCD_Pt_1800to2400': 0.08734,\n",
       " 'QCD_Pt_1400to1800': 0.6487,\n",
       " 'QCD_Pt_1000to1400': 7.465,\n",
       " 'QCD_Pt_800to1000': 26.25,\n",
       " 'QCD_Pt_600to800': 156.7,\n",
       " 'QCD_Pt_470to600': 551.2,\n",
       " 'QCD_Pt_300to470': 6826.0,\n",
       " 'QCD_Pt_170to300': 103700.0,\n",
       " 'QCD_Pt_80to120': 2346000.0,\n",
       " 'QCD_Pt_50to80': 15700000.0,\n",
       " 'QCD_Pt_30to50': 106900000.0,\n",
       " 'QCD_Pt_15to30': 1246000000.0}"
      ]
     },
     "execution_count": 5,
     "metadata": {},
     "output_type": "execute_result"
    }
   ],
   "source": [
    "def read_xs(file):\n",
    "    import json\n",
    "    f = open(file)\n",
    "    data = json.load(f)\n",
    "    xs_dict={}\n",
    "    for obj in data:\n",
    "        xs_dict[obj['process_name']]=float(obj['cross_section'])\n",
    "    return xs_dict\n",
    "read_xs('xsection-QCD.json')"
   ]
  },
  {
   "cell_type": "code",
   "execution_count": 6,
   "id": "b6bb1014",
   "metadata": {},
   "outputs": [],
   "source": [
    "events = try1['sumw']\n",
    "scales={}\n",
    "def scale_xs(hist,events,lumi,xsfile=\"xsection-QCD.json\"):\n",
    "    xs_dict = read_xs(xsfile)\n",
    "    \n",
    "    scales={}\n",
    "    for key in events:\n",
    "        if type(key) != str or key==\"Data\": continue\n",
    "        scales[key]=xs_dict[key]*lumi/events[key]\n",
    "        print(xs_dict[key])\n",
    "    hist.scale(scales, axis=\"dataset\")\n",
    "    return hist"
   ]
  },
  {
   "cell_type": "code",
   "execution_count": 6,
   "id": "173fad2f",
   "metadata": {},
   "outputs": [
    {
     "data": {
      "text/plain": [
       "<AxesSubplot:xlabel='Leading jet $p_{T}$ [GeV]', ylabel='Genflavour'>"
      ]
     },
     "execution_count": 6,
     "metadata": {},
     "output_type": "execute_result"
    },
    {
     "data": {
      "image/png": "[encoded data removed]",
      "text/plain": [
       "<Figure size 576x432 with 3 Axes>"
      ]
     },
     "metadata": {
      "needs_background": "light"
     },
     "output_type": "display_data"
    }
   ],
   "source": [
    "output_1=try1['ljpt'].integrate('dataset', 'QCD_HT300to500')\n",
    "output_2=try1['ljpt'].integrate('dataset', 'QCD_HT500to700')\n",
    "output_3=try1['ljpt'].integrate('dataset', 'QCD_HT00to1000')\n",
    "output_4=try1['ljpt'].integrate('dataset', 'QCD_HT1000to1500')\n",
    "output_5=try1['ljpt'].integrate('dataset', 'QCD_HT1500to2000')\n",
    "output_6=try1['ljpt'].integrate('dataset', 'QCD_HT2000toInf')\n",
    "output_7=try1['ljpt'].integrate('dataset', 'Data')\n",
    "fig, ax = plt.subplots(1,1,figsize=(8,6))\n",
    "output = output_1.add(output_2)\n",
    "plot2d(output_7, 'ljpt', ax=ax)\n",
    "plot2d(output, 'ljpt', ax=ax)"
   ]
  },
  {
   "cell_type": "code",
   "execution_count": 7,
   "id": "9423ec45",
   "metadata": {},
   "outputs": [
    {
     "data": {
      "image/png": "[encoded data removed]",
      "text/plain": [
       "<Figure size 432x288 with 1 Axes>"
      ]
     },
     "metadata": {
      "needs_background": "light"
     },
     "output_type": "display_data"
    }
   ],
   "source": [
    "h1= try1['ljpt'].integrate('dataset', 'QCD_HT300to500').integrate('flav')\n",
    "h2= try1['ljpt'].integrate('dataset', 'QCD_HT500to700').integrate('flav')\n",
    "h3= try1['ljpt'].integrate('dataset', 'QCD_HT700to1000').integrate('flav')\n",
    "h4= try1['ljpt'].integrate('dataset', 'QCD_HT1000to1500').integrate('flav')\n",
    "h5= try1['ljpt'].integrate('dataset', 'QCD_HT1500to2000').integrate('flav')\n",
    "h6= try1['ljpt'].integrate('dataset', 'QCD_HT2000toinf').integrate('flav')\n",
    "h7= try1['ljpt'].integrate('dataset', 'Data').integrate('flav')\n",
    "h1 = h1.add(h2)\n",
    "h1 = h1.add(h3)\n",
    "h1 = h1.add(h4)\n",
    "h1 = h1.add(h5)\n",
    "h1 = h1.add(h6)\n",
    "#plot1d(h1)\n",
    "plot1d(h7)\n",
    "ax = plot1d(h1)\n",
    "ax.set_ylim(1, 20000)\n",
    "ax.set_xlim(0, 20000)\n",
    "ax.set_yscale('log')\n",
    "\n"
   ]
  },
  {
   "cell_type": "code",
   "execution_count": null,
   "id": "fd023e81",
   "metadata": {},
   "outputs": [],
   "source": []
  },
  {
   "cell_type": "code",
   "execution_count": 8,
   "id": "2be43d86",
   "metadata": {},
   "outputs": [
    {
     "data": {
      "image/png": "[encoded data removed]",
      "text/plain": [
       "<Figure size 432x288 with 1 Axes>"
      ]
     },
     "metadata": {
      "needs_background": "light"
     },
     "output_type": "display_data"
    }
   ],
   "source": [
    "data = try1['pt'].integrate('dataset', 'Data').sum(\"flav\")\n",
    "qcd300= try1['pt'].integrate('dataset', 'QCD_HT300to500').sum(\"flav\")\n",
    "qcd500= try1['pt'].integrate('dataset', 'QCD_HT500to700').sum(\"flav\")\n",
    "qcd700= try1['pt'].integrate('dataset', 'QCD_HT700to1000').sum(\"flav\")\n",
    "qcd1000= try1['pt'].integrate('dataset', 'QCD_HT1000to1500').sum(\"flav\")\n",
    "qcd1500= try1['pt'].integrate('dataset', 'QCD_HT1500to2000').sum(\"flav\")\n",
    "a = plot1d(data)\n",
    "a.set_ylim(1, None)\n",
    "a.set_xlim(0, 200)\n",
    "a.set_yscale('log')"
   ]
  },
  {
   "cell_type": "code",
   "execution_count": 9,
   "id": "34541e36",
   "metadata": {},
   "outputs": [],
   "source": [
    "hist =try1['ljpt_nocut']\n",
    "#MC_hist = hist.copy() \n",
    "#hist.scale(scales[0])"
   ]
  },
  {
   "cell_type": "code",
   "execution_count": 7,
   "id": "058596a1",
   "metadata": {},
   "outputs": [
    {
     "data": {
      "text/plain": [
       "defaultdict_accumulator(float,\n",
       "                        {'Data': 4707.0,\n",
       "                         'QCD_Pt_3200toInf_2018_UL': 1000000.0,\n",
       "                         'QCD_Pt_2400to3200_2018_UL': 2988000.0,\n",
       "                         'QCD_Pt_1800to2400_2018_UL': 5491000.0,\n",
       "                         'QCD_Pt_1400to1800_2018_UL': 10670000.0,\n",
       "                         'QCD_Pt_1000to1400_2018_UL': 19730000.0,\n",
       "                         'QCD_Pt_800to1000_2018_UL': 37160000.0,\n",
       "                         'QCD_Pt_600to800_2018': 67508001.16503906,\n",
       "                         'QCD_Pt_470to600_2018_UL': 52448170.470947266,\n",
       "                         'QCD_Pt_300to470_2018_UL': 57910008.93261719,\n",
       "                         'QCD_Pt_170to300_2018_UL': 29676000.0,\n",
       "                         'QCD_Pt_80to120_2018_UL': 29688373.506835938,\n",
       "                         'QCD_Pt_50to80_2018_UL': 19493000.0,\n",
       "                         'QCD_Pt_30to50_2018_UL': 19706000.0,\n",
       "                         'QCD_Pt_15to30_2018_UL': 19991000.0})"
      ]
     },
     "execution_count": 7,
     "metadata": {},
     "output_type": "execute_result"
    }
   ],
   "source": [
    "events"
   ]
  },
  {
   "cell_type": "code",
   "execution_count": 11,
   "id": "a46f0e07",
   "metadata": {},
   "outputs": [
    {
     "name": "stdout",
     "output_type": "stream",
     "text": [
      "5259317.485839844\n",
      "10867612.754516602\n",
      "15383972.248413086\n",
      "48028221.12426758\n",
      "55046820.885009766\n",
      "52713592.58862305\n"
     ]
    }
   ],
   "source": [
    "for key in events:\n",
    "    if type(key) != str or key==\"Data\": continue\n",
    "    print (events[key])"
   ]
  },
  {
   "cell_type": "code",
   "execution_count": 12,
   "id": "17266045",
   "metadata": {},
   "outputs": [],
   "source": [
    "data_err_opts = {\n",
    "    'linestyle': 'none',\n",
    "    'marker': '.',\n",
    "    'markersize': 10.,\n",
    "    'color': 'k',\n",
    "    'elinewidth': 1,\n",
    "}\n",
    "# ptetas=['ljpt','sljpt','ssljpt','sssljpt','ljeta','sljeta','ssljeta','sssljeta']"
   ]
  },
  {
   "cell_type": "code",
   "execution_count": 13,
   "id": "4066b06b",
   "metadata": {},
   "outputs": [],
   "source": [
    "events = try1['sumw']\n",
    "# ptetas=['ljpt','sljpt','ssljpt','sssljpt','ljeta','sljeta','ssljeta','sssljeta']\n",
    "ptetas=['ntracks','SV_mass','SV_dlen','SV_dlenSig','SV_deltaR','SV_pt']\n",
    "datas=re.compile('(?=Data)')\n",
    "notdata=re.compile('(?!Data)')"
   ]
  },
  {
   "cell_type": "code",
   "execution_count": null,
   "id": "d76d3d5e",
   "metadata": {},
   "outputs": [],
   "source": []
  },
  {
   "cell_type": "code",
   "execution_count": null,
   "id": "1f174b74",
   "metadata": {},
   "outputs": [],
   "source": []
  },
  {
   "cell_type": "code",
   "execution_count": 14,
   "id": "8db7404c",
   "metadata": {},
   "outputs": [
    {
     "name": "stdout",
     "output_type": "stream",
     "text": [
      "25.24\n",
      "119.9\n",
      "1207.0\n",
      "6831.0\n",
      "32100.0\n",
      "347700.0\n",
      "{('QCD_HT2000toInf',): 13.421393644717023, ('QCD_HT1500to2000',): 58.26729802613089, ('QCD_HT1000to1500',): 525.6284998716197, ('QCD_HT700to1000',): 2616.151580544638, ('QCD_HT500to700',): 9508.598856115526, ('QCD_HT300to500',): 18068.94393317388}\n",
      "{('Data',): 3135551.0}\n",
      "101.83332216123611\n",
      "25.24\n",
      "119.9\n",
      "1207.0\n",
      "6831.0\n",
      "32100.0\n",
      "347700.0\n",
      "{('QCD_HT2000toInf',): 13.265413238094164, ('QCD_HT1500to2000',): 57.874884043747535, ('QCD_HT1000to1500',): 524.3366842937511, ('QCD_HT700to1000',): 2616.0171742549837, ('QCD_HT500to700',): 9515.492736523127, ('QCD_HT300to500',): 18080.97507673394}\n",
      "{('Data',): 3137580.0}\n",
      "101.84315350519492\n",
      "25.24\n",
      "119.9\n",
      "1207.0\n",
      "6831.0\n",
      "32100.0\n",
      "347700.0\n"
     ]
    },
    {
     "name": "stderr",
     "output_type": "stream",
     "text": [
      "/uscms/home/hhsia/miniconda3/envs/coffea/lib/python3.7/site-packages/coffea/hist/plot.py:423: RuntimeWarning: invalid value encountered in true_divide\n",
      "  rsumw = sumw_num / sumw_denom\n",
      "/uscms/home/hhsia/miniconda3/envs/coffea/lib/python3.7/site-packages/coffea/hist/plot.py:435: RuntimeWarning: invalid value encountered in true_divide\n",
      "  poisson_interval(rsumw, sumw2_num / sumw_denom ** 2) - rsumw\n",
      "/uscms/home/hhsia/miniconda3/envs/coffea/lib/python3.7/site-packages/coffea/hist/plot.py:452: RuntimeWarning: invalid value encountered in true_divide\n",
      "  denom_unc = poisson_interval(unity, sumw2_denom / sumw_denom ** 2)\n"
     ]
    },
    {
     "name": "stdout",
     "output_type": "stream",
     "text": [
      "{('QCD_HT2000toInf',): 13.621017083086489, ('QCD_HT1500to2000',): 58.981483089154445, ('QCD_HT1000to1500',): 530.1371049236833, ('QCD_HT700to1000',): 2629.7879164460956, ('QCD_HT500to700',): 9535.805833301882, ('QCD_HT300to500',): 18095.671013056195}\n",
      "{('Data',): 3142643.0}\n",
      "101.82227045264695\n",
      "25.24\n",
      "119.9\n",
      "1207.0\n",
      "6831.0\n",
      "32100.0\n",
      "347700.0\n",
      "{('QCD_HT2000toInf',): 11.927831580599566, ('QCD_HT1500to2000',): 52.35309812300241, ('QCD_HT1000to1500',): 477.940145124641, ('QCD_HT700to1000',): 2405.2571604537366, ('QCD_HT500to700',): 8823.018136043875, ('QCD_HT300to500',): 16924.70566676102}\n",
      "{('Data',): 2915458.0}\n",
      "101.60088770695323\n"
     ]
    },
    {
     "name": "stderr",
     "output_type": "stream",
     "text": [
      "/uscms/home/hhsia/miniconda3/envs/coffea/lib/python3.7/site-packages/coffea/hist/plot.py:423: RuntimeWarning: invalid value encountered in true_divide\n",
      "  rsumw = sumw_num / sumw_denom\n",
      "/uscms/home/hhsia/miniconda3/envs/coffea/lib/python3.7/site-packages/coffea/hist/plot.py:435: RuntimeWarning: invalid value encountered in true_divide\n",
      "  poisson_interval(rsumw, sumw2_num / sumw_denom ** 2) - rsumw\n",
      "/uscms/home/hhsia/miniconda3/envs/coffea/lib/python3.7/site-packages/coffea/hist/plot.py:452: RuntimeWarning: invalid value encountered in true_divide\n",
      "  denom_unc = poisson_interval(unity, sumw2_denom / sumw_denom ** 2)\n",
      "/uscms/home/hhsia/miniconda3/envs/coffea/lib/python3.7/site-packages/coffea/hist/plot.py:423: RuntimeWarning: invalid value encountered in true_divide\n",
      "  rsumw = sumw_num / sumw_denom\n",
      "/uscms/home/hhsia/miniconda3/envs/coffea/lib/python3.7/site-packages/coffea/hist/plot.py:435: RuntimeWarning: invalid value encountered in true_divide\n",
      "  poisson_interval(rsumw, sumw2_num / sumw_denom ** 2) - rsumw\n",
      "/uscms/home/hhsia/miniconda3/envs/coffea/lib/python3.7/site-packages/coffea/hist/plot.py:452: RuntimeWarning: invalid value encountered in true_divide\n",
      "  denom_unc = poisson_interval(unity, sumw2_denom / sumw_denom ** 2)\n"
     ]
    },
    {
     "name": "stdout",
     "output_type": "stream",
     "text": [
      "25.24\n",
      "119.9\n",
      "1207.0\n",
      "6831.0\n",
      "32100.0\n",
      "347700.0\n",
      "{('QCD_HT2000toInf',): 13.622250452248451, ('QCD_HT1500to2000',): 58.99068442915972, ('QCD_HT1000to1500',): 530.2480449314031, ('QCD_HT700to1000',): 2630.3460225631356, ('QCD_HT500to700',): 9537.5937403675, ('QCD_HT300to500',): 18098.78433529323}\n",
      "{('Data',): 3143458.0}\n",
      "101.83026406262037\n",
      "25.24\n",
      "119.9\n",
      "1207.0\n",
      "6831.0\n",
      "32100.0\n",
      "347700.0\n",
      "{('QCD_HT2000toInf',): 13.622250452248451, ('QCD_HT1500to2000',): 58.99068442915973, ('QCD_HT1000to1500',): 530.2480449314031, ('QCD_HT700to1000',): 2630.3460225631356, ('QCD_HT500to700',): 9537.593740367498, ('QCD_HT300to500',): 18098.784335293225}\n",
      "{('Data',): 3143458.0}\n",
      "101.83026406262039\n"
     ]
    },
    {
     "name": "stderr",
     "output_type": "stream",
     "text": [
      "/uscms/home/hhsia/miniconda3/envs/coffea/lib/python3.7/site-packages/coffea/hist/plot.py:423: RuntimeWarning: invalid value encountered in true_divide\n",
      "  rsumw = sumw_num / sumw_denom\n",
      "/uscms/home/hhsia/miniconda3/envs/coffea/lib/python3.7/site-packages/coffea/hist/plot.py:435: RuntimeWarning: invalid value encountered in true_divide\n",
      "  poisson_interval(rsumw, sumw2_num / sumw_denom ** 2) - rsumw\n",
      "/uscms/home/hhsia/miniconda3/envs/coffea/lib/python3.7/site-packages/coffea/hist/plot.py:452: RuntimeWarning: invalid value encountered in true_divide\n",
      "  denom_unc = poisson_interval(unity, sumw2_denom / sumw_denom ** 2)\n"
     ]
    },
    {
     "data": {
      "image/png": "[encoded data removed]",
      "text/plain": [
       "<Figure size 576x432 with 2 Axes>"
      ]
     },
     "metadata": {
      "needs_background": "light"
     },
     "output_type": "display_data"
    },
    {
     "data": {
      "image/png": "[encoded data removed]",
      "text/plain": [
       "<Figure size 576x432 with 2 Axes>"
      ]
     },
     "metadata": {
      "needs_background": "light"
     },
     "output_type": "display_data"
    },
    {
     "data": {
      "image/png": "[encoded data removed]",
      "text/plain": [
       "<Figure size 576x432 with 2 Axes>"
      ]
     },
     "metadata": {
      "needs_background": "light"
     },
     "output_type": "display_data"
    },
    {
     "data": {
      "image/png": "[encoded data removed]",
      "text/plain": [
       "<Figure size 576x432 with 2 Axes>"
      ]
     },
     "metadata": {
      "needs_background": "light"
     },
     "output_type": "display_data"
    },
    {
     "data": {
      "image/png": "[encoded data removed]",
      "text/plain": [
       "<Figure size 576x432 with 2 Axes>"
      ]
     },
     "metadata": {
      "needs_background": "light"
     },
     "output_type": "display_data"
    },
    {
     "data": {
      "image/png": "[encoded data removed]",
      "text/plain": [
       "<Figure size 576x432 with 2 Axes>"
      ]
     },
     "metadata": {
      "needs_background": "light"
     },
     "output_type": "display_data"
    }
   ],
   "source": [
    "for name in ptetas:\n",
    "    hlj=try1[name]\n",
    "    hlj=scale_xs(hlj,events,1) \n",
    "    norm = {}\n",
    "    sumMCall = 0\n",
    "    for key in hlj[notdata].sum(name).sum(\"flav\").values().keys():\n",
    "        newkey = str(key).replace('(','').replace(',)','').replace(\"'\",\"\")\n",
    "    \n",
    "        sumMCall += hlj[notdata].sum(name).sum(\"flav\").values()[key]\n",
    "        #norm[newkey] = hlj[datas].sum(name).sum(\"flav\").values()[('Data',)] / hlj[notdata].sum(name).sum(\"flav\").values()[key]\n",
    "    norm = hlj[datas].sum(name).sum(\"flav\").values()[('Data',)] / sumMCall\n",
    "    #norm['sumMCall'] = hlj[datas].sum(name).sum(\"flav\").values()[('Data',)] / hlj[notdata].sum(name).sum(\"flav\").values()[key]\n",
    "    print(hlj[notdata].sum(name).sum(\"flav\").values())\n",
    "    print(hlj[datas].sum(name).sum(\"flav\").values())\n",
    "    print(norm)\n",
    "    \n",
    "    hlj_nodatacopy=hlj[notdata]\n",
    "\n",
    "    #hlj_nodatacopy.scale(norm['sumMCall'])\n",
    "    hlj_nodatacopy.scale(norm)\n",
    "    \n",
    "    fig, ((ax),(rax)) = plt.subplots(2, 1, figsize=(8, 6), gridspec_kw={\"height_ratios\": (3, 1)}, sharex=True)\n",
    "    fig.subplots_adjust(hspace=.07)\n",
    "    ax=plot.plot1d(hlj_nodatacopy.sum(\"dataset\"),overlay=\"flav\", ax=ax,  density=False, clear=False,stack=True)\n",
    "    plot.plot1d(hlj[datas].sum(\"dataset\").sum(\"flav\"),error_opts=data_err_opts,ax=ax,density=False,clear=False)\n",
    "    ax.legend(handles=ax.get_legend_handles_labels()[0],labels=['b','c','udsg','data'],fontsize=13)\n",
    "\n",
    "    rax=plot.plotratio(\n",
    "                                        #num=hlj[datas].sum(\"dataset\").sum(\"flav\").rebin(name,10),\n",
    "                                        num=hlj[datas].sum(\"dataset\").sum(\"flav\"),\n",
    "                                        #denom=hlj_nodatacopy.sum(\"dataset\").sum(\"flav\").rebin(name,10),\n",
    "                                        denom=hlj_nodatacopy.sum(\"dataset\").sum(\"flav\"),\n",
    "                                        ax=rax,\n",
    "                                        error_opts= data_err_opts,\n",
    "#                                         denom_fill_opts={'yerr':[ratio_up,ratio_dn]},\n",
    "                                        denom_fill_opts={},\n",
    "                                        guide_opts={},\n",
    "                                        unc='num',\n",
    "                                        clear=False)\n",
    "    \n",
    "\n",
    "    ax.set_ylabel(\"Events/10 GeV\",fontsize=15)\n",
    "    #ax.set_yscale('log')\n",
    "    #ax.set_ylim(1,800000000)\n",
    "    #ax.set_ylim(1,1000)\n",
    "    rax.set_ylabel('Data/MC',fontsize=15)\n",
    "    ax.set_xlabel(None)\n",
    "    rax.set_xlabel(name,fontsize=15)\n",
    "    rax.set_ylim(0.0,2.)\n",
    "    #rax.set_yscale('log')\n",
    "    #plt.savefig(name+'.png')  \n",
    "    "
   ]
  },
  {
   "cell_type": "code",
   "execution_count": 15,
   "id": "7ef7ecc8",
   "metadata": {},
   "outputs": [
    {
     "ename": "KeyError",
     "evalue": "'No axis ljeta found in <Hist (dataset,flav,SV_pt) instance at 0x7fae86300bd0>'",
     "output_type": "error",
     "traceback": [
      "\u001b[0;31m---------------------------------------------------------------------------\u001b[0m",
      "\u001b[0;31mKeyError\u001b[0m                                  Traceback (most recent call last)",
      "\u001b[0;32m/tmp/ipykernel_14662/2778089347.py\u001b[0m in \u001b[0;36m<module>\u001b[0;34m\u001b[0m\n\u001b[1;32m      1\u001b[0m \u001b[0mnorm\u001b[0m \u001b[0;34m=\u001b[0m \u001b[0;34m{\u001b[0m\u001b[0;34m}\u001b[0m\u001b[0;34m\u001b[0m\u001b[0;34m\u001b[0m\u001b[0m\n\u001b[1;32m      2\u001b[0m \u001b[0msumMCall\u001b[0m \u001b[0;34m=\u001b[0m \u001b[0;36m0\u001b[0m\u001b[0;34m\u001b[0m\u001b[0;34m\u001b[0m\u001b[0m\n\u001b[0;32m----> 3\u001b[0;31m \u001b[0;32mfor\u001b[0m \u001b[0mkey\u001b[0m \u001b[0;32min\u001b[0m \u001b[0mhlj\u001b[0m\u001b[0;34m[\u001b[0m\u001b[0mnotdata\u001b[0m\u001b[0;34m]\u001b[0m\u001b[0;34m.\u001b[0m\u001b[0msum\u001b[0m\u001b[0;34m(\u001b[0m\u001b[0;34m'ljeta'\u001b[0m\u001b[0;34m)\u001b[0m\u001b[0;34m.\u001b[0m\u001b[0msum\u001b[0m\u001b[0;34m(\u001b[0m\u001b[0;34m\"flav\"\u001b[0m\u001b[0;34m)\u001b[0m\u001b[0;34m.\u001b[0m\u001b[0mvalues\u001b[0m\u001b[0;34m(\u001b[0m\u001b[0;34m)\u001b[0m\u001b[0;34m.\u001b[0m\u001b[0mkeys\u001b[0m\u001b[0;34m(\u001b[0m\u001b[0;34m)\u001b[0m\u001b[0;34m:\u001b[0m\u001b[0;34m\u001b[0m\u001b[0;34m\u001b[0m\u001b[0m\n\u001b[0m\u001b[1;32m      4\u001b[0m     \u001b[0mnewkey\u001b[0m \u001b[0;34m=\u001b[0m \u001b[0mstr\u001b[0m\u001b[0;34m(\u001b[0m\u001b[0mkey\u001b[0m\u001b[0;34m)\u001b[0m\u001b[0;34m.\u001b[0m\u001b[0mreplace\u001b[0m\u001b[0;34m(\u001b[0m\u001b[0;34m'('\u001b[0m\u001b[0;34m,\u001b[0m\u001b[0;34m''\u001b[0m\u001b[0;34m)\u001b[0m\u001b[0;34m.\u001b[0m\u001b[0mreplace\u001b[0m\u001b[0;34m(\u001b[0m\u001b[0;34m',)'\u001b[0m\u001b[0;34m,\u001b[0m\u001b[0;34m''\u001b[0m\u001b[0;34m)\u001b[0m\u001b[0;34m.\u001b[0m\u001b[0mreplace\u001b[0m\u001b[0;34m(\u001b[0m\u001b[0;34m\"'\"\u001b[0m\u001b[0;34m,\u001b[0m\u001b[0;34m\"\"\u001b[0m\u001b[0;34m)\u001b[0m\u001b[0;34m\u001b[0m\u001b[0;34m\u001b[0m\u001b[0m\n\u001b[1;32m      5\u001b[0m \u001b[0;34m\u001b[0m\u001b[0m\n",
      "\u001b[0;32m~/miniconda3/envs/coffea/lib/python3.7/site-packages/coffea/hist/hist_tools.py\u001b[0m in \u001b[0;36msum\u001b[0;34m(self, *axes, **kwargs)\u001b[0m\n\u001b[1;32m   1137\u001b[0m         \"\"\"\n\u001b[1;32m   1138\u001b[0m         \u001b[0moverflow\u001b[0m \u001b[0;34m=\u001b[0m \u001b[0mkwargs\u001b[0m\u001b[0;34m.\u001b[0m\u001b[0mpop\u001b[0m\u001b[0;34m(\u001b[0m\u001b[0;34m\"overflow\"\u001b[0m\u001b[0;34m,\u001b[0m \u001b[0;34m\"none\"\u001b[0m\u001b[0;34m)\u001b[0m\u001b[0;34m\u001b[0m\u001b[0;34m\u001b[0m\u001b[0m\n\u001b[0;32m-> 1139\u001b[0;31m         \u001b[0maxes\u001b[0m \u001b[0;34m=\u001b[0m \u001b[0;34m[\u001b[0m\u001b[0mself\u001b[0m\u001b[0;34m.\u001b[0m\u001b[0maxis\u001b[0m\u001b[0;34m(\u001b[0m\u001b[0max\u001b[0m\u001b[0;34m)\u001b[0m \u001b[0;32mfor\u001b[0m \u001b[0max\u001b[0m \u001b[0;32min\u001b[0m \u001b[0maxes\u001b[0m\u001b[0;34m]\u001b[0m\u001b[0;34m\u001b[0m\u001b[0;34m\u001b[0m\u001b[0m\n\u001b[0m\u001b[1;32m   1140\u001b[0m         \u001b[0mreduced_dims\u001b[0m \u001b[0;34m=\u001b[0m \u001b[0;34m[\u001b[0m\u001b[0max\u001b[0m \u001b[0;32mfor\u001b[0m \u001b[0max\u001b[0m \u001b[0;32min\u001b[0m \u001b[0mself\u001b[0m\u001b[0;34m.\u001b[0m\u001b[0m_axes\u001b[0m \u001b[0;32mif\u001b[0m \u001b[0max\u001b[0m \u001b[0;32mnot\u001b[0m \u001b[0;32min\u001b[0m \u001b[0maxes\u001b[0m\u001b[0;34m]\u001b[0m\u001b[0;34m\u001b[0m\u001b[0;34m\u001b[0m\u001b[0m\n\u001b[1;32m   1141\u001b[0m         \u001b[0mout\u001b[0m \u001b[0;34m=\u001b[0m \u001b[0mHist\u001b[0m\u001b[0;34m(\u001b[0m\u001b[0mself\u001b[0m\u001b[0;34m.\u001b[0m\u001b[0m_label\u001b[0m\u001b[0;34m,\u001b[0m \u001b[0;34m*\u001b[0m\u001b[0mreduced_dims\u001b[0m\u001b[0;34m,\u001b[0m \u001b[0mdtype\u001b[0m\u001b[0;34m=\u001b[0m\u001b[0mself\u001b[0m\u001b[0;34m.\u001b[0m\u001b[0m_dtype\u001b[0m\u001b[0;34m)\u001b[0m\u001b[0;34m\u001b[0m\u001b[0;34m\u001b[0m\u001b[0m\n",
      "\u001b[0;32m~/miniconda3/envs/coffea/lib/python3.7/site-packages/coffea/hist/hist_tools.py\u001b[0m in \u001b[0;36m<listcomp>\u001b[0;34m(.0)\u001b[0m\n\u001b[1;32m   1137\u001b[0m         \"\"\"\n\u001b[1;32m   1138\u001b[0m         \u001b[0moverflow\u001b[0m \u001b[0;34m=\u001b[0m \u001b[0mkwargs\u001b[0m\u001b[0;34m.\u001b[0m\u001b[0mpop\u001b[0m\u001b[0;34m(\u001b[0m\u001b[0;34m\"overflow\"\u001b[0m\u001b[0;34m,\u001b[0m \u001b[0;34m\"none\"\u001b[0m\u001b[0;34m)\u001b[0m\u001b[0;34m\u001b[0m\u001b[0;34m\u001b[0m\u001b[0m\n\u001b[0;32m-> 1139\u001b[0;31m         \u001b[0maxes\u001b[0m \u001b[0;34m=\u001b[0m \u001b[0;34m[\u001b[0m\u001b[0mself\u001b[0m\u001b[0;34m.\u001b[0m\u001b[0maxis\u001b[0m\u001b[0;34m(\u001b[0m\u001b[0max\u001b[0m\u001b[0;34m)\u001b[0m \u001b[0;32mfor\u001b[0m \u001b[0max\u001b[0m \u001b[0;32min\u001b[0m \u001b[0maxes\u001b[0m\u001b[0;34m]\u001b[0m\u001b[0;34m\u001b[0m\u001b[0;34m\u001b[0m\u001b[0m\n\u001b[0m\u001b[1;32m   1140\u001b[0m         \u001b[0mreduced_dims\u001b[0m \u001b[0;34m=\u001b[0m \u001b[0;34m[\u001b[0m\u001b[0max\u001b[0m \u001b[0;32mfor\u001b[0m \u001b[0max\u001b[0m \u001b[0;32min\u001b[0m \u001b[0mself\u001b[0m\u001b[0;34m.\u001b[0m\u001b[0m_axes\u001b[0m \u001b[0;32mif\u001b[0m \u001b[0max\u001b[0m \u001b[0;32mnot\u001b[0m \u001b[0;32min\u001b[0m \u001b[0maxes\u001b[0m\u001b[0;34m]\u001b[0m\u001b[0;34m\u001b[0m\u001b[0;34m\u001b[0m\u001b[0m\n\u001b[1;32m   1141\u001b[0m         \u001b[0mout\u001b[0m \u001b[0;34m=\u001b[0m \u001b[0mHist\u001b[0m\u001b[0;34m(\u001b[0m\u001b[0mself\u001b[0m\u001b[0;34m.\u001b[0m\u001b[0m_label\u001b[0m\u001b[0;34m,\u001b[0m \u001b[0;34m*\u001b[0m\u001b[0mreduced_dims\u001b[0m\u001b[0;34m,\u001b[0m \u001b[0mdtype\u001b[0m\u001b[0;34m=\u001b[0m\u001b[0mself\u001b[0m\u001b[0;34m.\u001b[0m\u001b[0m_dtype\u001b[0m\u001b[0;34m)\u001b[0m\u001b[0;34m\u001b[0m\u001b[0;34m\u001b[0m\u001b[0m\n",
      "\u001b[0;32m~/miniconda3/envs/coffea/lib/python3.7/site-packages/coffea/hist/hist_tools.py\u001b[0m in \u001b[0;36maxis\u001b[0;34m(self, axis_name)\u001b[0m\n\u001b[1;32m    899\u001b[0m         \u001b[0;32mif\u001b[0m \u001b[0maxis_name\u001b[0m \u001b[0;32min\u001b[0m \u001b[0mself\u001b[0m\u001b[0;34m.\u001b[0m\u001b[0m_axes\u001b[0m\u001b[0;34m:\u001b[0m\u001b[0;34m\u001b[0m\u001b[0;34m\u001b[0m\u001b[0m\n\u001b[1;32m    900\u001b[0m             \u001b[0;32mreturn\u001b[0m \u001b[0mself\u001b[0m\u001b[0;34m.\u001b[0m\u001b[0m_axes\u001b[0m\u001b[0;34m[\u001b[0m\u001b[0mself\u001b[0m\u001b[0;34m.\u001b[0m\u001b[0m_axes\u001b[0m\u001b[0;34m.\u001b[0m\u001b[0mindex\u001b[0m\u001b[0;34m(\u001b[0m\u001b[0maxis_name\u001b[0m\u001b[0;34m)\u001b[0m\u001b[0;34m]\u001b[0m\u001b[0;34m\u001b[0m\u001b[0;34m\u001b[0m\u001b[0m\n\u001b[0;32m--> 901\u001b[0;31m         \u001b[0;32mraise\u001b[0m \u001b[0mKeyError\u001b[0m\u001b[0;34m(\u001b[0m\u001b[0;34m\"No axis %s found in %r\"\u001b[0m \u001b[0;34m%\u001b[0m \u001b[0;34m(\u001b[0m\u001b[0maxis_name\u001b[0m\u001b[0;34m,\u001b[0m \u001b[0mself\u001b[0m\u001b[0;34m)\u001b[0m\u001b[0;34m)\u001b[0m\u001b[0;34m\u001b[0m\u001b[0;34m\u001b[0m\u001b[0m\n\u001b[0m\u001b[1;32m    902\u001b[0m \u001b[0;34m\u001b[0m\u001b[0m\n\u001b[1;32m    903\u001b[0m     \u001b[0;32mdef\u001b[0m \u001b[0maxes\u001b[0m\u001b[0;34m(\u001b[0m\u001b[0mself\u001b[0m\u001b[0;34m)\u001b[0m\u001b[0;34m:\u001b[0m\u001b[0;34m\u001b[0m\u001b[0;34m\u001b[0m\u001b[0m\n",
      "\u001b[0;31mKeyError\u001b[0m: 'No axis ljeta found in <Hist (dataset,flav,SV_pt) instance at 0x7fae86300bd0>'"
     ]
    }
   ],
   "source": [
    "norm = {}\n",
    "sumMCall = 0\n",
    "for key in hlj[notdata].sum('ljeta').sum(\"flav\").values().keys():\n",
    "    newkey = str(key).replace('(','').replace(',)','').replace(\"'\",\"\")\n",
    "    \n",
    "    sumMCall += hlj[notdata].sum('ljeta').sum(\"flav\").values()[key]\n",
    "norm = hlj[datas].sum('ljeta').sum(\"flav\").values()[('Data',)] / sumMCall\n",
    "norm"
   ]
  },
  {
   "cell_type": "code",
   "execution_count": null,
   "id": "0e21fb8e",
   "metadata": {},
   "outputs": [],
   "source": []
  },
  {
   "cell_type": "code",
   "execution_count": null,
   "id": "37c4b982",
   "metadata": {},
   "outputs": [],
   "source": []
  },
  {
   "cell_type": "code",
   "execution_count": null,
   "id": "5ab071a3",
   "metadata": {},
   "outputs": [],
   "source": [
    "events = try1['sumw']\n",
    "# ptetas=['ljpt','sljpt','ssljpt','sssljpt','ljeta','sljeta','ssljeta','sssljeta']\n",
    "datas=re.compile('(?=Data)')\n",
    "notdata=re.compile('(?!Data)')\n",
    "hlj=try1['ljpt']\n",
    "#hlj=scale_xs(hlj,events,1)\n",
    "# norm = {}\n",
    "#for key in hlj[notdata].sum('ljpt').sum(\"flav\").values().keys():\n",
    "#    newkey = str(key).replace('(','').replace(',)','').replace(\"'\",\"\")\n",
    "#    norm[newkey] = hlj[datas].sum('ljpt').sum(\"flav\").values()[('Data',)] / hlj[notdata].sum('ljpt').sum(\"flav\").values()[key]\n",
    "hlj_nodatacopy=hlj[notdata]\n",
    "#hlj_nodatacopy.scale(norm,axis=\"dataset\")\n",
    "hlj_nodatacopy.scale(norm['sumMCall'])\n",
    "# hlj_nodatacopy.scale(231.7836728873188)\n",
    "\n",
    "\n",
    "fig, ((ax),(rax)) = plt.subplots(2, 1, figsize=(8, 6), gridspec_kw={\"height_ratios\": (3, 1)}, sharex=True)\n",
    "fig.subplots_adjust(hspace=.07)\n",
    "ax=plot.plot1d(hlj_nodatacopy.sum(\"dataset\"),overlay=\"flav\", ax=ax,  density=False, clear=False,stack=True)\n",
    "plot.plot1d(hlj[datas].sum(\"dataset\").sum(\"flav\"),error_opts=data_err_opts,ax=ax,density=False,clear=False)\n",
    "ax.legend(handles=ax.get_legend_handles_labels()[0],labels=['b','c','udsg','data'],fontsize=13)\n",
    "\n",
    "rax=plot.plotratio(\n",
    "                                        num=hlj[datas].sum(\"dataset\").sum(\"flav\"),\n",
    "                                        denom=hlj_nodatacopy.sum(\"dataset\").sum(\"flav\"),\n",
    "                                        ax=rax,\n",
    "                                        error_opts= data_err_opts,\n",
    "#                                         denom_fill_opts={'yerr':[ratio_up,ratio_dn]},\n",
    "                                        denom_fill_opts={},\n",
    "                                        guide_opts={},\n",
    "                                        unc='num',\n",
    "                                        clear=False)\n",
    "    \n",
    "\n",
    "ax.set_ylabel(\"Events\",fontsize=15)\n",
    "#ax.set_yscale('log')\n",
    "#ax.set_ylim(1,10000000)\n",
    "rax.set_ylabel('Data/MC',fontsize=15)\n",
    "ax.set_xlabel('ljpt')\n",
    "rax.set_xlabel('ljpt',fontsize=15)\n",
    "rax.set_ylim(0.0,2.0)\n",
    "#rax.set_yscale('log')\n"
   ]
  },
  {
   "cell_type": "code",
   "execution_count": null,
   "id": "84e77e3b",
   "metadata": {},
   "outputs": [],
   "source": [
    "hlj[notdata]"
   ]
  },
  {
   "cell_type": "code",
   "execution_count": null,
   "id": "c11ec7ec",
   "metadata": {},
   "outputs": [],
   "source": [
    "print(hlj_nodatacopy.sum(\"dataset\").sum('flav').sum('ljpt').values()[()])\n",
    "print(hlj[datas].sum(\"dataset\").sum(\"flav\").sum('ljpt').values()[()])\n",
    "events\n",
    "11400185.0/49184.59034662972"
   ]
  },
  {
   "cell_type": "code",
   "execution_count": null,
   "id": "0769463c",
   "metadata": {},
   "outputs": [],
   "source": [
    "#hlj[notdata].integrate('flav', Interval(0, 4))\n",
    "# coffea.hist\n",
    "#plot1d(hlj[notdata].integrate('flav', Interval(0, 4)), stack=True)\n",
    "plot1d(hlj[notdata].integrate('flav'))"
   ]
  },
  {
   "cell_type": "code",
   "execution_count": null,
   "id": "ee5b92c7",
   "metadata": {},
   "outputs": [],
   "source": []
  },
  {
   "cell_type": "code",
   "execution_count": null,
   "id": "66939e1d",
   "metadata": {},
   "outputs": [],
   "source": [
    "Ntt = np.sum(hlj[notdata].sum('eta').sum(\"flav\").values())\n",
    "N = np.sum(hlj[datas].sum('eta').sum(\"flav\").values())\n",
    "Ntt = [i for i in Ntt.values()] # the zeroth column entry is the number of events defined as a float\n",
    "N = [i for i in N.values()]\n",
    "norm=N[0]/Ntt\n",
    "norm = {'QCD_HT2000toInf': 4.56059025e+10,'QCD_HT1500to2000': 4.39239261e+09, 'QCD_HT1000to1500':6.86918614e+07,'QCD_HT500to700': 8.15042151e+06,\n",
    "      'QCD_HT500to700': 6.15260878e+05,'QCD_HT300to500': 3.17703133e+04}\n"
   ]
  },
  {
   "cell_type": "code",
   "execution_count": null,
   "id": "f5aae677",
   "metadata": {},
   "outputs": [],
   "source": [
    "hlj[notdata].sum('eta').sum(\"flav\").values()"
   ]
  },
  {
   "cell_type": "code",
   "execution_count": null,
   "id": "df33000f",
   "metadata": {},
   "outputs": [],
   "source": [
    "norm = {}\n",
    "for key in hlj[notdata].sum('eta').sum(\"flav\").values().keys():\n",
    "    newkey = str(key).replace('(','').replace(',)','').replace(\"'\",\"\")\n",
    "    norm[newkey] = hlj[datas].sum('eta').sum(\"flav\").values()[('Data',)] / hlj[notdata].sum('eta').sum(\"flav\").values()[key]\n",
    "\n",
    "norm"
   ]
  },
  {
   "cell_type": "code",
   "execution_count": null,
   "id": "e9e2e3d2",
   "metadata": {},
   "outputs": [],
   "source": [
    "\n",
    "\n",
    "output_1 = load('hists_QCD_QCD_HT_sample_300-500.coffea')\n",
    "output_2 = load('hists_QCD_QCD_HT_sample_500-700.coffea')\n",
    "output_3 = load('hists_QCD_QCD_HT_sample_700-1000.coffea')\n",
    "output_4 = load('hists_QCD_QCD_HT_sample_1000-1500.coffea')\n",
    "output_5 = load('hists_QCD_QCD_HT_sample_1500-2000.coffea')\n",
    "output_6 = load('hists_QCD_QCD_HT_sample_2000-inf.coffea')\n",
    "#plot1d(output_1['ljpt'])\n",
    "#plot1d(output_2['ljpt'])\n",
    "#plot1d(output_3['ljpt'])\n",
    "#plot1d(output_4['ljpt'])\n",
    "#plot1d(output_5['ljpt'])\n",
    "#plot1d(output_6['ljpt'])\n"
   ]
  },
  {
   "cell_type": "code",
   "execution_count": null,
   "id": "fcad4c7e",
   "metadata": {},
   "outputs": [],
   "source": [
    "plot1d(output_6['eta'])"
   ]
  },
  {
   "cell_type": "code",
   "execution_count": null,
   "id": "65d8f0fa",
   "metadata": {},
   "outputs": [],
   "source": [
    "x_sec = [347700,32100,6831,1207,119.9,25.24]\n",
    "nevents= [52778707,55152960,48158738,15446605,10938738,5320919]\n",
    "\n",
    "scales=[]\n",
    "for i in range(6):\n",
    "    scales.append(x_sec[i]/nevents[i])\n",
    "scales"
   ]
  },
  {
   "cell_type": "code",
   "execution_count": null,
   "id": "da76f29d",
   "metadata": {},
   "outputs": [],
   "source": [
    "for key in events:\n",
    "    "
   ]
  },
  {
   "cell_type": "code",
   "execution_count": null,
   "id": "a908b7c0",
   "metadata": {},
   "outputs": [],
   "source": [
    "plot1d(output_6['btagCMVA'])"
   ]
  },
  {
   "cell_type": "code",
   "execution_count": null,
   "id": "f4cdc132",
   "metadata": {},
   "outputs": [],
   "source": [
    "hist =output_1['ljpt'].integrate('dataset', 'QCD_HT')\n",
    "#MC_hist = hist.copy() \n",
    "hist.scale(scales[0])\n",
    "hist2 =output_2['ljpt'].integrate('dataset', 'QCD_HT')\n",
    "hist2.scale(scales[1])\n",
    "hist3 =output_3['ljpt'].integrate('dataset', 'QCD_HT')\n",
    "hist3.scale(scales[2])\n",
    "hist4 =output_4['ljpt'].integrate('dataset', 'QCD_HT')\n",
    "hist4.scale(scales[3])\n",
    "hist5 =output_5['ljpt'].integrate('dataset', 'QCD_HT')\n",
    "hist5.scale(scales[4])\n",
    "hist6 =output_6['ljpt'].integrate('dataset', 'QCD_HT')\n",
    "hist6.scale(scales[5])\n",
    "\n",
    "hist = (hist.add(hist2))\n",
    "hist = (hist.add(hist3))\n",
    "hist = (hist.add(hist4))\n",
    "hist = (hist.add(hist5))\n",
    "hist = (hist.add(hist6))\n",
    "\n",
    "a = plot1d(hist)\n",
    "a.set_ylim(1, None)\n",
    "a.set_xlim(175, 2000)\n",
    "a.set_yscale('log')"
   ]
  },
  {
   "cell_type": "code",
   "execution_count": null,
   "id": "6cd38d14",
   "metadata": {},
   "outputs": [],
   "source": []
  },
  {
   "cell_type": "code",
   "execution_count": null,
   "id": "9727fc61",
   "metadata": {},
   "outputs": [],
   "source": [
    "#plot1d(output_1['ljpt'])\n",
    "output = (output_1['ljpt'].integrate('dataset', 'QCD_HT').add(output_2['ljpt'].integrate('dataset', 'QCD_HT')))\n",
    "plot1d(output)"
   ]
  },
  {
   "cell_type": "code",
   "execution_count": null,
   "id": "e4261c2b",
   "metadata": {},
   "outputs": [],
   "source": []
  },
  {
   "cell_type": "code",
   "execution_count": null,
   "id": "e5452660",
   "metadata": {},
   "outputs": [],
   "source": [
    "hist =output_1['ljpt'].integrate('dataset', 'QCD_HT')\n",
    "#MC_hist = hist.copy() \n",
    "hist.scale(20)\n",
    "hist2 =output_2['ljpt'].integrate('dataset', 'QCD_HT')\n",
    "hist2.scale(20)\n",
    "output3 = (hist.add(hist2))\n",
    "plot1d(output3)"
   ]
  },
  {
   "cell_type": "code",
   "execution_count": null,
   "id": "432e31ec",
   "metadata": {},
   "outputs": [],
   "source": [
    "ax = plot1d(output_1['ljpt'])\n",
    "ax.set_ylim(1, 100)\n",
    "ax.set_xlim(0, 200)\n",
    "ax.set_yscale('log')\n"
   ]
  },
  {
   "cell_type": "code",
   "execution_count": null,
   "id": "de7bfea9",
   "metadata": {},
   "outputs": [],
   "source": [
    "plot1d(output_2['ljpt'].integrate('dataset', 'QCD_HT'))\n",
    "events=output_1['sumw']\n",
    "events"
   ]
  },
  {
   "cell_type": "code",
   "execution_count": null,
   "id": "d1cae4fb",
   "metadata": {},
   "outputs": [],
   "source": [
    "weights = output_1['ljpt'].values()[('QCD_HT',)]\n",
    "weights\n",
    "\n",
    "for i in range(len(weights)):\n",
    "    print(output_1['ljpt'].axis('ljpt').centers()[i], weights[i])"
   ]
  },
  {
   "cell_type": "code",
   "execution_count": null,
   "id": "ee284bde",
   "metadata": {},
   "outputs": [],
   "source": [
    "output_1['ljpt'].axis('ljpt').centers()#*np.where(output['ljpt'].values()[('inclusive_QCD',)]==0, 0, 1)"
   ]
  },
  {
   "cell_type": "code",
   "execution_count": null,
   "id": "f32be693",
   "metadata": {},
   "outputs": [],
   "source": [
    "np.repeat(output_1['ljpt'].axis('ljpt').centers(), np.array(weights, dtype=int))"
   ]
  },
  {
   "cell_type": "code",
   "execution_count": null,
   "id": "f9f8cb66",
   "metadata": {},
   "outputs": [],
   "source": [
    "import json\n",
    "f = open('QCD_samples.json')\n",
    "sample = json.load(f)\n",
    "for i in sample['Data']:\n",
    "    print(i)"
   ]
  },
  {
   "cell_type": "code",
   "execution_count": null,
   "id": "a49da2c6",
   "metadata": {},
   "outputs": [],
   "source": [
    "plt.style.use([hep.style.ROOT, {'font.size': 16}])\n",
    "\n",
    "# plot options for data\n",
    "data_err_opts = {\n",
    "    'linestyle': 'none',\n",
    "    'marker': '.',\n",
    "    'markersize': 10.,\n",
    "    'color': 'k',\n",
    "    'elinewidth': 1,\n",
    "}\n"
   ]
  },
  {
   "cell_type": "code",
   "execution_count": null,
   "id": "f2b4e262",
   "metadata": {},
   "outputs": [],
   "source": []
  }
 ],
 "metadata": {
  "kernelspec": {
   "display_name": "Python 3 (ipykernel)",
   "language": "python",
   "name": "python3"
  },
  "language_info": {
   "codemirror_mode": {
    "name": "ipython",
    "version": 3
   },
   "file_extension": ".py",
   "mimetype": "text/x-python",
   "name": "python",
   "nbconvert_exporter": "python",
   "pygments_lexer": "ipython3",
   "version": "3.7.11"
  }
 },
 "nbformat": 4,
 "nbformat_minor": 5
}
