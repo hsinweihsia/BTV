{
 "cells": [
  {
   "cell_type": "code",
   "execution_count": 1,
   "id": "050dd678",
   "metadata": {},
   "outputs": [],
   "source": [
    "import numpy as np\n",
    "import matplotlib.pyplot as plt\n",
    "from matplotlib.offsetbox import AnchoredText\n",
    "import mplhep as hep\n",
    "from coffea.util import load\n",
    "from coffea.hist import plot,plot1d,plot2d,Interval\n",
    "import re\n",
    "from coffea import hist\n",
    "import coffea,uproot3, numpy"
   ]
  },
  {
   "cell_type": "code",
   "execution_count": 2,
   "id": "bd98232c",
   "metadata": {},
   "outputs": [],
   "source": [
    "from xs_scaler import *"
   ]
  },
  {
   "cell_type": "code",
   "execution_count": 3,
   "id": "d298c08c",
   "metadata": {},
   "outputs": [],
   "source": [
    "try1 = load('hists_QCD_QCD_Pt_sample.coffea')"
   ]
  },
  {
   "cell_type": "code",
   "execution_count": 4,
   "id": "441fc991",
   "metadata": {},
   "outputs": [
    {
     "data": {
      "text/plain": [
       "{'pt': <Hist (dataset,flav,pt) instance at 0x7f58f0070810>,\n",
       " 'eta': <Hist (dataset,flav,eta) instance at 0x7f5889aa9c50>,\n",
       " 'phi': <Hist (dataset,flav,phi) instance at 0x7f5889aad650>,\n",
       " 'mass': <Hist (dataset,flav,mass) instance at 0x7f5889ab1090>,\n",
       " 'btagCMVA': <Hist (dataset,flav,btagCMVA) instance at 0x7f5889ab1b10>,\n",
       " 'btagCSVV2': <Hist (dataset,flav,btagCSVV2) instance at 0x7f5889a36490>,\n",
       " 'btagDeepB': <Hist (dataset,flav,btagDeepB) instance at 0x7f5889a36e50>,\n",
       " 'btagDeepC': <Hist (dataset,flav,btagDeepC) instance at 0x7f5889a3b850>,\n",
       " 'btagDeepFlavB': <Hist (dataset,flav,btagDeepFlavB) instance at 0x7f5889a40250>,\n",
       " 'btagDeepFlavC': <Hist (dataset,flav,btagDeepFlavC) instance at 0x7f5889a40c10>,\n",
       " 'DeepCSV_trackDecayLenVal_0': <Hist (dataset,flav,DeepCSV_trackDecayLenVal_0) instance at 0x7f5889a435d0>,\n",
       " 'DeepCSV_trackDecayLenVal_1': <Hist (dataset,flav,DeepCSV_trackDecayLenVal_1) instance at 0x7f5889a43f50>,\n",
       " 'DeepCSV_trackDecayLenVal_2': <Hist (dataset,flav,DeepCSV_trackDecayLenVal_2) instance at 0x7f5889a48950>,\n",
       " 'DeepCSV_trackDecayLenVal_3': <Hist (dataset,flav,DeepCSV_trackDecayLenVal_3) instance at 0x7f5889a4c2d0>,\n",
       " 'DeepCSV_trackDecayLenVal_4': <Hist (dataset,flav,DeepCSV_trackDecayLenVal_4) instance at 0x7f5889a4cc50>,\n",
       " 'DeepCSV_trackDecayLenVal_5': <Hist (dataset,flav,DeepCSV_trackDecayLenVal_5) instance at 0x7f5889a51610>,\n",
       " 'DeepCSV_trackDeltaR_0': <Hist (dataset,flav,DeepCSV_trackDeltaR_0) instance at 0x7f5889a51f90>,\n",
       " 'DeepCSV_trackDeltaR_1': <Hist (dataset,flav,DeepCSV_trackDeltaR_1) instance at 0x7f5889a55950>,\n",
       " 'DeepCSV_trackDeltaR_2': <Hist (dataset,flav,DeepCSV_trackDeltaR_2) instance at 0x7f5889a59310>,\n",
       " 'DeepCSV_trackDeltaR_3': <Hist (dataset,flav,DeepCSV_trackDeltaR_3) instance at 0x7f5889a59c90>,\n",
       " 'DeepCSV_trackDeltaR_4': <Hist (dataset,flav,DeepCSV_trackDeltaR_4) instance at 0x7f5889a5e650>,\n",
       " 'DeepCSV_trackDeltaR_5': <Hist (dataset,flav,DeepCSV_trackDeltaR_5) instance at 0x7f5889a5efd0>,\n",
       " 'njet': <Hist (dataset,flav,njet) instance at 0x7f5889a629d0>,\n",
       " 'nbjet_t': <Hist (dataset,flav,nbjet_t) instance at 0x7f5889a66c50>,\n",
       " 'nbjet_m': <Hist (dataset,flav,nbjet_m) instance at 0x7f5889a69f50>,\n",
       " 'nbjet_l': <Hist (dataset,flav,nbjet_l) instance at 0x7f58899f4190>,\n",
       " 'sjetpt': <Hist (dataset,flav,sjetpt) instance at 0x7f58899f7410>,\n",
       " 'ljpt': <Hist (dataset,flav,ljpt) instance at 0x7f58899fc650>,\n",
       " 'ljeta': <Hist (dataset,flav,ljeta) instance at 0x7f58899ff810>,\n",
       " 'ljphi': <Hist (dataset,flav,ljphi) instance at 0x7f5889a04950>,\n",
       " 'ljpt_etacut': <Hist (dataset,flav,ljpt_etacut) instance at 0x7f5889a07b10>,\n",
       " 'jet_pt_etacut': <Hist (dataset,flav,jet_pt_etacut) instance at 0x7f5889a0c590>,\n",
       " 'jet_pt_nocut': <Hist (dataset,flav,jet_pt_nocut) instance at 0x7f5889a0cf50>,\n",
       " 'sljpt': <Hist (dataset,flav,sljpt) instance at 0x7f5889a10950>,\n",
       " 'PV_npvsGood': <Hist (dataset,PV_npvsGood) instance at 0x7f5889a17b10>,\n",
       " 'Pileup_nTrueInt': <Hist (dataset,Pileup_nTrueInt) instance at 0x7f5889a1b4d0>,\n",
       " 'unw_PV_npvsGood': <Hist (dataset,unw_PV_npvsGood) instance at 0x7f5889a1fd90>,\n",
       " 'unw_Pileup_nTrueInt': <Hist (dataset,unw_Pileup_nTrueInt) instance at 0x7f5889a21ad0>,\n",
       " 'ntracks': <Hist (dataset,flav,ntracks) instance at 0x7f5889a25850>,\n",
       " 'nJetSVs': <Hist (dataset,flav,nJetSVs) instance at 0x7f5889a27a90>,\n",
       " 'nJetSVs_noflav': <Hist (dataset,nJetSVs_noflav) instance at 0x7f5889a2bd10>,\n",
       " 'SV_mass': <Hist (dataset,flav,SV_mass) instance at 0x7f5889a33690>,\n",
       " 'SV_chi2': <Hist (dataset,flav,SV_chi2) instance at 0x7f58899b7850>,\n",
       " 'SV_dxy': <Hist (dataset,flav,SV_dxy) instance at 0x7f58899bba50>,\n",
       " 'SV_dxysig': <Hist (dataset,flav,SV_dxysig) instance at 0x7f58899bfc50>,\n",
       " 'SV_d3d': <Hist (dataset,flav,SV_d3d) instance at 0x7f58899c4e50>,\n",
       " 'SV_d3dsig': <Hist (dataset,flav,SV_d3dsig) instance at 0x7f58899c8f90>,\n",
       " 'SV_deltaR': <Hist (dataset,flav,SV_deltaR) instance at 0x7f58899d1210>,\n",
       " 'SV_costhetasvpv': <Hist (dataset,flav,SV_costhetasvpv) instance at 0x7f58899d4350>,\n",
       " 'SV_deltaPhi': <Hist (dataset,flav,SV_deltaPhi) instance at 0x7f58899da5d0>,\n",
       " 'SV_pt': <Hist (dataset,flav,SV_pt) instance at 0x7f58899df7d0>,\n",
       " 'SV_ptrel': <Hist (dataset,flav,SV_ptrel) instance at 0x7f58899e3950>,\n",
       " 'SV_enration': <Hist (dataset,flav,SV_enration) instance at 0x7f58899eab10>,\n",
       " 'lj_btagCMVA': <Hist (dataset,flav,lj_btagCMVA) instance at 0x7f58899edcd0>,\n",
       " 'lj_btagCSVV2': <Hist (dataset,flav,lj_btagCSVV2) instance at 0x7f58899f1f10>,\n",
       " 'lj_btagDeepB': <Hist (dataset,flav,lj_btagDeepB) instance at 0x7f588997a090>,\n",
       " 'lj_btagDeepC': <Hist (dataset,flav,lj_btagDeepC) instance at 0x7f588997f250>,\n",
       " 'lj_btagDeepFlavB': <Hist (dataset,flav,lj_btagDeepFlavB) instance at 0x7f58899833d0>,\n",
       " 'lj_btagDeepFlavC': <Hist (dataset,flav,lj_btagDeepFlavC) instance at 0x7f5889987550>,\n",
       " 'sumw': defaultdict_accumulator(float,\n",
       "                         {'Data': 4707.0,\n",
       "                          'QCD_Pt_3200toInf_2018_UL': 1000000.0,\n",
       "                          'QCD_Pt_2400to3200_2018_UL': 2988000.0,\n",
       "                          'QCD_Pt_1800to2400_2018_UL': 5491000.0,\n",
       "                          'QCD_Pt_1400to1800_2018_UL': 10670000.0,\n",
       "                          'QCD_Pt_1000to1400_2018_UL': 19730000.0,\n",
       "                          'QCD_Pt_800to1000_2018_UL': 37160000.0,\n",
       "                          'QCD_Pt_600to800_2018_UL': 67508001.16503906,\n",
       "                          'QCD_Pt_470to600_2018_UL': 52448170.470947266,\n",
       "                          'QCD_Pt_300to470_2018_UL': 57910008.93261719,\n",
       "                          'QCD_Pt_170to300_2018_UL': 29676000.0,\n",
       "                          'QCD_Pt_120to170_2018_UL': 30225362.55126953,\n",
       "                          'QCD_Pt_80to120_2018_UL': 29688373.506835938,\n",
       "                          'QCD_Pt_50to80_2018_UL': 19493000.0,\n",
       "                          'QCD_Pt_30to50_2018_UL': 19706000.0,\n",
       "                          'QCD_Pt_15to30_2018_UL': 19991000.0})}"
      ]
     },
     "execution_count": 4,
     "metadata": {},
     "output_type": "execute_result"
    }
   ],
   "source": [
    "try1"
   ]
  },
  {
   "cell_type": "code",
   "execution_count": 5,
   "id": "f7eceb69",
   "metadata": {},
   "outputs": [],
   "source": [
    "try2 = load('hists_QCD_QCD_Pt_sample_noPU.coffea')"
   ]
  },
  {
   "cell_type": "code",
   "execution_count": 6,
   "id": "18b3f59e",
   "metadata": {},
   "outputs": [
    {
     "data": {
      "text/plain": [
       "{'pt': <Hist (dataset,flav,pt) instance at 0x7f588998cc90>,\n",
       " 'eta': <Hist (dataset,flav,eta) instance at 0x7f588999d590>,\n",
       " 'phi': <Hist (dataset,flav,phi) instance at 0x7f588999ded0>,\n",
       " 'mass': <Hist (dataset,flav,mass) instance at 0x7f58899a1850>,\n",
       " 'btagCMVA': <Hist (dataset,flav,btagCMVA) instance at 0x7f58899a51d0>,\n",
       " 'btagCSVV2': <Hist (dataset,flav,btagCSVV2) instance at 0x7f58899a5ad0>,\n",
       " 'btagDeepB': <Hist (dataset,flav,btagDeepB) instance at 0x7f58899a9410>,\n",
       " 'btagDeepC': <Hist (dataset,flav,btagDeepC) instance at 0x7f58899a9d10>,\n",
       " 'btagDeepFlavB': <Hist (dataset,flav,btagDeepFlavB) instance at 0x7f58899ad650>,\n",
       " 'btagDeepFlavC': <Hist (dataset,flav,btagDeepFlavC) instance at 0x7f58899b14d0>,\n",
       " 'njet': <Hist (dataset,njet) instance at 0x7f58899b36d0>,\n",
       " 'nbjet_t': <Hist (dataset,nbjet_t) instance at 0x7f58899355d0>,\n",
       " 'nbjet_m': <Hist (dataset,nbjet_m) instance at 0x7f5889a9f6d0>,\n",
       " 'nbjet_l': <Hist (dataset,nbjet_l) instance at 0x7f588993ac10>,\n",
       " 'nel': <Hist (dataset,nel) instance at 0x7f588993cb10>,\n",
       " 'nmu': <Hist (dataset,nmu) instance at 0x7f588993cd90>,\n",
       " 'lelpt': <Hist (dataset,lelpt) instance at 0x7f588993e090>,\n",
       " 'lmupt': <Hist (dataset,lmupt) instance at 0x7f588993e290>,\n",
       " 'ljpt': <Hist (dataset,flav,ljpt) instance at 0x7f588993e490>,\n",
       " 'ljeta': <Hist (dataset,flav,ljeta) instance at 0x7f588993ef10>,\n",
       " 'ljphi': <Hist (dataset,flav,ljphi) instance at 0x7f5889941890>,\n",
       " 'ljpt_etacut': <Hist (dataset,flav,ljpt_etacut) instance at 0x7f5889944290>,\n",
       " 'jet_pt_etacut': <Hist (dataset,flav,jet_pt_etacut) instance at 0x7f5889944cd0>,\n",
       " 'jet_pt_nocut': <Hist (dataset,flav,jet_pt_nocut) instance at 0x7f58899486d0>,\n",
       " 'sljpt': <Hist (dataset,sljpt) instance at 0x7f588994b0d0>,\n",
       " 'PV_npvsGood': <Hist (dataset,PV_npvsGood) instance at 0x7f588994b210>,\n",
       " 'Pileup_nTrueInt': <Hist (dataset,Pileup_nTrueInt) instance at 0x7f588994c090>,\n",
       " 'ntracks': <Hist (dataset,flav,ntracks) instance at 0x7f588994ce10>,\n",
       " 'SV_mass': <Hist (dataset,flav,SV_mass) instance at 0x7f588994f890>,\n",
       " 'SV_dlen': <Hist (dataset,flav,SV_dlen) instance at 0x7f5889952290>,\n",
       " 'SV_dlenSig': <Hist (dataset,flav,SV_dlenSig) instance at 0x7f5889952450>,\n",
       " 'SV_deltaR': <Hist (dataset,flav,SV_deltaR) instance at 0x7f5889952610>,\n",
       " 'SV_pt': <Hist (dataset,flav,SV_pt) instance at 0x7f5889956050>,\n",
       " 'lj_btagCMVA': <Hist (dataset,flav,lj_btagCMVA) instance at 0x7f58899569d0>,\n",
       " 'lj_btagCSVV2': <Hist (dataset,flav,lj_btagCSVV2) instance at 0x7f58899583d0>,\n",
       " 'lj_btagDeepB': <Hist (dataset,flav,lj_btagDeepB) instance at 0x7f5889958d90>,\n",
       " 'lj_btagDeepC': <Hist (dataset,flav,lj_btagDeepC) instance at 0x7f588995c790>,\n",
       " 'lj_btagDeepFlavB': <Hist (dataset,flav,lj_btagDeepFlavB) instance at 0x7f588995e150>,\n",
       " 'lj_btagDeepFlavC': <Hist (dataset,flav,lj_btagDeepFlavC) instance at 0x7f588995ead0>,\n",
       " 'sumw': defaultdict_accumulator(float,\n",
       "                         {'Data': 4707.0,\n",
       "                          'QCD_Pt_3200toInf_2018_UL': 1000000.0,\n",
       "                          'QCD_Pt_2400to3200_2018_UL': 2988000.0,\n",
       "                          'QCD_Pt_1800to2400_2018_UL': 5491000.0,\n",
       "                          'QCD_Pt_1400to1800_2018_UL': 10670000.0,\n",
       "                          'QCD_Pt_1000to1400_2018_UL': 19730000.0,\n",
       "                          'QCD_Pt_800to1000_2018_UL': 37160000.0,\n",
       "                          'QCD_Pt_600to800_2018_UL': 67508001.16503906,\n",
       "                          'QCD_Pt_470to600_2018_UL': 52448170.470947266,\n",
       "                          'QCD_Pt_300to470_2018_UL': 57910008.93261719,\n",
       "                          'QCD_Pt_170to300_2018_UL': 29676000.0,\n",
       "                          'QCD_Pt_120to170_2018_UL': 30225362.55126953,\n",
       "                          'QCD_Pt_80to120_2018_UL': 29688373.506835938,\n",
       "                          'QCD_Pt_50to80_2018_UL': 19493000.0,\n",
       "                          'QCD_Pt_30to50_2018_UL': 19706000.0,\n",
       "                          'QCD_Pt_15to30_2018_UL': 19991000.0})}"
      ]
     },
     "execution_count": 6,
     "metadata": {},
     "output_type": "execute_result"
    }
   ],
   "source": [
    "try2"
   ]
  },
  {
   "cell_type": "code",
   "execution_count": 7,
   "id": "cd5ae5e7",
   "metadata": {
    "scrolled": true
   },
   "outputs": [
    {
     "data": {
      "image/png": "[encoded data removed]",
      "text/plain": [
       "<Figure size 432x288 with 1 Axes>"
      ]
     },
     "metadata": {
      "needs_background": "light"
     },
     "output_type": "display_data"
    }
   ],
   "source": [
    "notdata=re.compile('(?!Data)')\n",
    "datas=re.compile('(?=Data)')\n",
    "\n",
    "h_nTrueInt_weighted=try1['Pileup_nTrueInt']\n",
    "h_nTrueInt_unweighted = try2['Pileup_nTrueInt']\n",
    "\n",
    "h_MC_npvsGood_weighted = try1['PV_npvsGood'][notdata]\n",
    "h_MC_npvsGood_unweighted = try2['PV_npvsGood'][notdata]\n",
    "h_data_npvsGood = try2['PV_npvsGood'][datas]\n",
    "\n",
    "a = plot1d(h_MC_npvsGood_weighted.sum('dataset'))\n",
    "b = plot1d(h_MC_npvsGood_unweighted.sum('dataset'))\n",
    "c = plot1d(h_data_npvsGood.sum('dataset'))"
   ]
  },
  {
   "cell_type": "code",
   "execution_count": 8,
   "id": "dfa26bd0",
   "metadata": {},
   "outputs": [],
   "source": [
    "#fout = uproot3.create('check.root')\n",
    "#fout['MC_npvsGood_weighted'] = coffea.hist.export1d(h_MC_npvsGood_weighted.sum('dataset'))\n",
    "#fout['MC_npvsGood_unweighted'] = coffea.hist.export1d(h_MC_npvsGood_unweighted.sum('dataset'))\n",
    "#fout['data_npvsGood'] = coffea.hist.export1d(h_data_npvsGood.sum('dataset'))\n",
    "#fout.close()"
   ]
  },
  {
   "cell_type": "code",
   "execution_count": 9,
   "id": "44083788",
   "metadata": {},
   "outputs": [
    {
     "data": {
      "text/plain": [
       "<AxesSubplot:xlabel='Leading jet $p_{T}$ [GeV]', ylabel='Counts'>"
      ]
     },
     "execution_count": 9,
     "metadata": {},
     "output_type": "execute_result"
    },
    {
     "data": {
      "image/png": "[encoded data removed]",
      "text/plain": [
       "<Figure size 432x288 with 1 Axes>"
      ]
     },
     "metadata": {
      "needs_background": "light"
     },
     "output_type": "display_data"
    }
   ],
   "source": [
    "plot1d(try1['ljpt'].sum('flav'))"
   ]
  },
  {
   "cell_type": "code",
   "execution_count": null,
   "id": "9323367e",
   "metadata": {},
   "outputs": [],
   "source": []
  },
  {
   "cell_type": "code",
   "execution_count": null,
   "id": "9517c28f",
   "metadata": {},
   "outputs": [],
   "source": [
    "x_sec = [1831718000.0,139803000.0,19222500.0,2758420.0,469797.0,117989.0,7820.25,645.528,187.109,32.3486,7.488e+00,6.485e-01,8.730e-02,5.248e-03,1.352e-04]\n",
    "nevents= [19991000.0,19706000.0,19493000.0,29688373.506835938,30225362.55126953,29676000.0,57910008.93261719,52448170.470947266,67508001.16503906,37160000.0,19730000.0,10670000.0,5491000.0,2988000.0,1000000.0]\n",
    "\n",
    "scales=[]\n",
    "for i in range(15):\n",
    "    scales.append(x_sec[i]/nevents[i])\n",
    "scales[14]"
   ]
  },
  {
   "cell_type": "code",
   "execution_count": null,
   "id": "3fb39e64",
   "metadata": {
    "scrolled": true
   },
   "outputs": [],
   "source": [
    "hist_1 =try1['ljpt'].sum('flav').integrate('dataset', 'QCD_Pt_15to30_2018_UL')\n",
    "hist_1.scale(scales[0])\n",
    "hist_2 =try1['ljpt'].sum('flav').integrate('dataset', 'QCD_Pt_30to50_2018_UL')\n",
    "hist_2.scale(scales[1])\n",
    "hist_3 =try1['ljpt'].sum('flav').integrate('dataset', 'QCD_Pt_50to80_2018_UL')\n",
    "hist_3.scale(scales[2])\n",
    "hist_4 =try1['ljpt'].sum('flav').integrate('dataset', 'QCD_Pt_80to120_2018_UL')\n",
    "hist_4.scale(scales[3])\n",
    "hist_5 =try1['ljpt'].sum('flav').integrate('dataset', 'QCD_Pt_120to170_2018_UL')\n",
    "hist_5.scale(scales[4])\n",
    "hist_6 =try1['ljpt'].sum('flav').integrate('dataset', 'QCD_Pt_170to300_2018_UL')\n",
    "hist_6.scale(scales[5])\n",
    "hist_7 =try1['ljpt'].sum('flav').integrate('dataset', 'QCD_Pt_300to470_2018_UL')\n",
    "hist_7.scale(scales[6])\n",
    "hist_8 =try1['ljpt'].sum('flav').integrate('dataset', 'QCD_Pt_470to600_2018_UL')\n",
    "hist_8.scale(scales[7])\n",
    "hist_9 =try1['ljpt'].sum('flav').integrate('dataset', 'QCD_Pt_600to800_2018_UL')\n",
    "hist_9.scale(scales[8])\n",
    "hist_10 =try1['ljpt'].sum('flav').integrate('dataset', 'QCD_Pt_800to1000_2018_UL')\n",
    "hist_10.scale(scales[9])\n",
    "hist_11 =try1['ljpt'].sum('flav').integrate('dataset', 'QCD_Pt_1000to1400_2018_UL')\n",
    "hist_11.scale(scales[10])\n",
    "hist_12 =try1['ljpt'].sum('flav').integrate('dataset', 'QCD_Pt_1400to1800_2018_UL')\n",
    "hist_12.scale(scales[11])\n",
    "hist_13 =try1['ljpt'].sum('flav').integrate('dataset', 'QCD_Pt_1800to2400_2018_UL')\n",
    "hist_13.scale(scales[12])\n",
    "hist_14 =try1['ljpt'].sum('flav').integrate('dataset', 'QCD_Pt_2400to3200_2018_UL')\n",
    "hist_14.scale(scales[13])\n",
    "hist_15 =try1['ljpt'].sum('flav').integrate('dataset', 'QCD_Pt_3200toInf_2018_UL')\n",
    "hist_15.scale(scales[14])\n"
   ]
  },
  {
   "cell_type": "code",
   "execution_count": null,
   "id": "a710dca4",
   "metadata": {},
   "outputs": [],
   "source": [
    "histo = hist_1\n",
    "histo = histo.add(hist_2)\n",
    "histo = histo.add(hist_3)\n",
    "histo = histo.add(hist_4)\n",
    "histo = histo.add(hist_5)\n",
    "histo = histo.add(hist_6)\n",
    "histo = histo.add(hist_7)\n",
    "histo = histo.add(hist_8)\n",
    "histo = histo.add(hist_9)\n",
    "histo = histo.add(hist_10)\n",
    "histo = histo.add(hist_11)\n",
    "histo = histo.add(hist_12)\n",
    "histo = histo.add(hist_13)\n",
    "histo = histo.add(hist_14)\n",
    "histo = histo.add(hist_15)\n",
    "\n",
    "a = plot1d(histo)\n",
    "a.set_ylim(0.0001)\n",
    "#a.set_xlim(0., 2000.)\n",
    "a.set_yscale('log')"
   ]
  },
  {
   "cell_type": "code",
   "execution_count": null,
   "id": "c84fb039",
   "metadata": {},
   "outputs": [],
   "source": [
    "read_xs('xsection-QCD.json')"
   ]
  },
  {
   "cell_type": "code",
   "execution_count": null,
   "id": "b6bb1014",
   "metadata": {},
   "outputs": [],
   "source": [
    "events = try1['sumw']\n",
    "events"
   ]
  },
  {
   "cell_type": "code",
   "execution_count": null,
   "id": "173fad2f",
   "metadata": {},
   "outputs": [],
   "source": [
    "def read_xs(file):\n",
    "    import json\n",
    "\n",
    "    f = open(file)\n",
    "    data = json.load(f)\n",
    "    xs_dict={}\n",
    "    for obj in data:\n",
    "        xs_dict[obj['process_name']]=float(obj['cross_section'])\n",
    "    return xs_dict"
   ]
  },
  {
   "cell_type": "code",
   "execution_count": null,
   "id": "9423ec45",
   "metadata": {},
   "outputs": [],
   "source": [
    "read_xs('xsection-QCD.json')"
   ]
  },
  {
   "cell_type": "code",
   "execution_count": null,
   "id": "fd023e81",
   "metadata": {},
   "outputs": [],
   "source": [
    "def scale_xs(hist,lumi,events,):\n",
    "    xs_dict = read_xs('xsection-QCD.json')\n",
    "    scales={}\n",
    "    for key in events:\n",
    "        if type(key) != str or key==\"Data\": continue\n",
    "        scales[key]=xs_dict[key]*lumi/events[key]\n",
    "        print(scales[key])\n",
    "    hist.scale(scales, axis=\"dataset\")\n",
    "    return hist"
   ]
  },
  {
   "cell_type": "code",
   "execution_count": null,
   "id": "5ae59bb3",
   "metadata": {},
   "outputs": [],
   "source": []
  },
  {
   "cell_type": "code",
   "execution_count": null,
   "id": "058596a1",
   "metadata": {},
   "outputs": [],
   "source": []
  },
  {
   "cell_type": "code",
   "execution_count": null,
   "id": "a46f0e07",
   "metadata": {},
   "outputs": [],
   "source": [
    "for key in events:\n",
    "    if type(key) != str or key==\"Data\": continue\n",
    "    print (events[key])"
   ]
  },
  {
   "cell_type": "code",
   "execution_count": null,
   "id": "17266045",
   "metadata": {},
   "outputs": [],
   "source": [
    "data_err_opts = {\n",
    "    'linestyle': 'none',\n",
    "    'marker': '.',\n",
    "    'markersize': 10.,\n",
    "    'color': 'k',\n",
    "    'elinewidth': 1,\n",
    "}\n",
    "# ptetas=['ljpt','sljpt','ssljpt','sssljpt','ljeta','sljeta','ssljeta','sssljeta']"
   ]
  },
  {
   "cell_type": "code",
   "execution_count": null,
   "id": "68e38055",
   "metadata": {},
   "outputs": [],
   "source": []
  },
  {
   "cell_type": "code",
   "execution_count": null,
   "id": "2e076951",
   "metadata": {},
   "outputs": [],
   "source": []
  },
  {
   "cell_type": "code",
   "execution_count": null,
   "id": "4066b06b",
   "metadata": {},
   "outputs": [],
   "source": [
    "events = try1['sumw']\n",
    "ptetas=['ljpt']\n",
    "datas=re.compile('(?=Data)')\n",
    "notdata=re.compile('(?!Data)')"
   ]
  },
  {
   "cell_type": "code",
   "execution_count": null,
   "id": "bce5af81",
   "metadata": {},
   "outputs": [],
   "source": [
    "hlj=try1['pt']\n",
    "hlj=scale_xs(hlj,59.832045316,events) \n",
    "hlj_nodatacopy=hlj[notdata]"
   ]
  },
  {
   "cell_type": "code",
   "execution_count": null,
   "id": "71507678",
   "metadata": {},
   "outputs": [],
   "source": [
    "fig, ((ax),(rax)) = plt.subplots(2, 1, figsize=(8, 6), gridspec_kw={\"height_ratios\": (3, 1)}, sharex=True)\n",
    "fig.subplots_adjust(hspace=.07)\n",
    "plot1d(hlj_nodatacopy.sum(\"dataset\"),overlay=\"flav\", ax=ax,  density=False, clear=False,stack=True)\n",
    "plot1d(hlj[datas].sum(\"dataset\").sum(\"flav\"),error_opts=data_err_opts,ax=ax,density=False,clear=False)\n",
    "ax.legend(handles=ax.get_legend_handles_labels()[0],labels=['b','c','udsg','data'],fontsize=13)\n",
    "\n",
    "rax=plot.plotratio(\n",
    "                                        #num=hlj[datas].sum(\"dataset\").sum(\"flav\").rebin(name,5),\n",
    "                                        num=hlj[datas].sum(\"dataset\").sum(\"flav\"),\n",
    "                                        #denom=hlj_nodatacopy.sum(\"dataset\").sum(\"flav\").rebin(name,5),\n",
    "                                        denom=hlj_nodatacopy.sum(\"dataset\").sum(\"flav\"),\n",
    "                                        ax=rax,\n",
    "                                        error_opts= data_err_opts,\n",
    "#                                         denom_fill_opts={'yerr':[ratio_up,ratio_dn]},\n",
    "                                        denom_fill_opts={},\n",
    "                                        guide_opts={},\n",
    "                                        unc='num',\n",
    "                                        clear=False)\n",
    "    \n",
    "\n",
    "ax.set_ylabel(\"Events/1\",fontsize=15)\n",
    "ax.set_yscale('log')\n",
    "ax.set_ylim(1,5000000)\n",
    "\n",
    "rax.set_ylabel('Data/MC',fontsize=15)\n",
    "ax.set_xlabel(None)\n",
    "rax.set_xlabel(r\"jet pT\",fontsize=15)\n",
    "rax.set_ylim(0.,2.0)\n",
    "    "
   ]
  },
  {
   "cell_type": "code",
   "execution_count": null,
   "id": "caf92f02",
   "metadata": {},
   "outputs": [],
   "source": []
  },
  {
   "cell_type": "code",
   "execution_count": null,
   "id": "d76d3d5e",
   "metadata": {},
   "outputs": [],
   "source": [
    "\n",
    "for name in ptetas:\n",
    "    hlj=try1[name]\n",
    "    hlj=scale_xs(hlj,59.832045316,events) \n",
    "    \n",
    "    hlj_nodatacopy=hlj[notdata]\n",
    "    \n",
    "    fig, ((ax),(rax)) = plt.subplots(2, 1, figsize=(8, 6), gridspec_kw={\"height_ratios\": (3, 1)}, sharex=True)\n",
    "    fig.subplots_adjust(hspace=.07)\n",
    "    plot1d(hlj_nodatacopy.sum(\"dataset\"),overlay=\"flav\", ax=ax,  density=False, clear=False,stack=True)\n",
    "    plot1d(hlj[datas].sum(\"dataset\").sum(\"flav\"),error_opts=data_err_opts,ax=ax,density=False,clear=False)\n",
    "    ax.legend(handles=ax.get_legend_handles_labels()[0],labels=['b','c','udsg','data'],fontsize=13)\n",
    "    \n",
    "\n",
    "    rax=plot.plotratio(\n",
    "                                        #num=hlj[datas].sum(\"dataset\").sum(\"flav\").rebin(name,5),\n",
    "                                        num=hlj[datas].sum(\"dataset\").sum(\"flav\"),\n",
    "                                        #denom=hlj_nodatacopy.sum(\"dataset\").sum(\"flav\").rebin(name,5),\n",
    "                                        denom=hlj_nodatacopy.sum(\"dataset\").sum(\"flav\"),\n",
    "                                        ax=rax,\n",
    "                                        error_opts= data_err_opts,\n",
    "#                                         denom_fill_opts={'yerr':[ratio_up,ratio_dn]},\n",
    "                                        denom_fill_opts={},\n",
    "                                        guide_opts={},\n",
    "                                        unc='num',\n",
    "                                        clear=False)\n",
    "    \n",
    "\n",
    "    ax.set_ylabel(\"Events/1\",fontsize=15)\n",
    "    #ax.set_yscale('log')\n",
    "    ax.set_ylim(0.0,1000000)\n",
    "    ax.set_xlim(-3.0,3.0)\n",
    "    rax.set_ylabel('Data/MC',fontsize=15)\n",
    "    ax.set_xlabel(None)\n",
    "    rax.set_xlabel(r\"leading jet $eta$\",fontsize=15)\n",
    "    rax.set_ylim(0.,2.0)\n",
    "    rax.set_xlim(-3.0,3.0)\n",
    "    #rax.set_xlim(0.,10.)\n",
    "    #rax.set_yscale('log')\n",
    "    #plt.savefig(name+'.pdf')"
   ]
  },
  {
   "cell_type": "code",
   "execution_count": null,
   "id": "647ff402",
   "metadata": {},
   "outputs": [],
   "source": [
    "events = try1['sumw']\n",
    "ptetas=['SV_pt']\n",
    "#ptetas=['ntracks','SV_mass','SV_dlen','SV_dlenSig','SV_deltaR','SV_pt']\n",
    "datas=re.compile('(?=Data)')\n",
    "notdata=re.compile('(?!Data)')"
   ]
  },
  {
   "cell_type": "code",
   "execution_count": null,
   "id": "8db7404c",
   "metadata": {},
   "outputs": [],
   "source": [
    "for name in ptetas:\n",
    "    hlj=try1[name]\n",
    "    hlj=scale_xs(hlj,1.,events) \n",
    "    norm = {}\n",
    "    sumMCall = 0\n",
    "    for key in hlj[notdata].sum(name).sum(\"flav\").values().keys():\n",
    "        newkey = str(key).replace('(','').replace(',)','').replace(\"'\",\"\")\n",
    "    \n",
    "        sumMCall += hlj[notdata].sum(name).sum(\"flav\").values()[key]\n",
    "        #norm[newkey] = hlj[datas].sum(name).sum(\"flav\").values()[('Data',)] / hlj[notdata].sum(name).sum(\"flav\").values()[key]\n",
    "    norm = hlj[datas].sum(name).sum(\"flav\").values()[('Data',)] / sumMCall\n",
    "    #norm['sumMCall'] = hlj[datas].sum(name).sum(\"flav\").values()[('Data',)] / hlj[notdata].sum(name).sum(\"flav\").values()[key]\n",
    "    print(\"Nevent MC\",hlj[notdata].sum(name).sum(\"flav\").values())\n",
    "    print(\"Nevent data\",hlj[datas].sum(name).sum(\"flav\").values())\n",
    "    print(\"norm\",norm)\n",
    "    \n",
    "    hlj_nodatacopy=hlj[notdata]\n",
    "\n",
    "    #hlj_nodatacopy.scale(norm['sumMCall'])\n",
    "    hlj_nodatacopy.scale(norm)\n",
    "    \n",
    "    fig, ((ax),(rax)) = plt.subplots(2, 1, figsize=(8, 6), gridspec_kw={\"height_ratios\": (3, 1)}, sharex=True)\n",
    "    fig.subplots_adjust(hspace=.07)\n",
    "    ax=plot.plot1d(hlj_nodatacopy.sum(\"dataset\").rebin(name,5),overlay=\"flav\", ax=ax,  density=False, clear=False,stack=True)\n",
    "    plot.plot1d(hlj[datas].sum(\"dataset\").sum(\"flav\").rebin(name,5),error_opts=data_err_opts,ax=ax,density=False,clear=False)\n",
    "    ax.legend(handles=ax.get_legend_handles_labels()[0],labels=['b','c','udsg','data'],fontsize=13)\n",
    "    \n",
    "\n",
    "    rax=plot.plotratio(\n",
    "                                        num=hlj[datas].sum(\"dataset\").sum(\"flav\").rebin(name,5),\n",
    "                                        #num=hlj[datas].sum(\"dataset\").sum(\"flav\"),\n",
    "                                        denom=hlj_nodatacopy.sum(\"dataset\").sum(\"flav\").rebin(name,5),\n",
    "                                        #denom=hlj_nodatacopy.sum(\"dataset\").sum(\"flav\"),\n",
    "                                        ax=rax,\n",
    "                                        error_opts= data_err_opts,\n",
    "#                                         denom_fill_opts={'yerr':[ratio_up,ratio_dn]},\n",
    "                                        denom_fill_opts={},\n",
    "                                        guide_opts={},\n",
    "                                        unc='num',\n",
    "                                        clear=False)\n",
    "    \n",
    "\n",
    "    ax.set_ylabel(\"Events/5 GeV\",fontsize=15)\n",
    "    ax.set_yscale('log')\n",
    "    ax.set_ylim(1,30000000)\n",
    "    ax.set_xlim(0.,200.)\n",
    "    rax.set_ylabel('Data/MC',fontsize=15)\n",
    "    ax.set_xlabel(None)\n",
    "    rax.set_xlabel(r\"SV $p_{T}$ [GeV]\",fontsize=15)\n",
    "    rax.set_ylim(0.0,2.)\n",
    "    #rax.set_yscale('log')\n",
    "    #plt.savefig(name+'.png')  \n",
    "    "
   ]
  },
  {
   "cell_type": "code",
   "execution_count": null,
   "id": "7ef7ecc8",
   "metadata": {},
   "outputs": [],
   "source": [
    "  \n",
    "    "
   ]
  },
  {
   "cell_type": "code",
   "execution_count": null,
   "id": "0e21fb8e",
   "metadata": {},
   "outputs": [],
   "source": []
  },
  {
   "cell_type": "code",
   "execution_count": null,
   "id": "37c4b982",
   "metadata": {},
   "outputs": [],
   "source": []
  },
  {
   "cell_type": "code",
   "execution_count": null,
   "id": "5ab071a3",
   "metadata": {},
   "outputs": [],
   "source": [
    "events = try1['sumw']\n",
    "# ptetas=['ljpt','sljpt','ssljpt','sssljpt','ljeta','sljeta','ssljeta','sssljeta']\n",
    "datas=re.compile('(?=Data)')\n",
    "notdata=re.compile('(?!Data)')\n",
    "hlj=try1['ljpt']\n",
    "#hlj=scale_xs(hlj,events,1)\n",
    "# norm = {}\n",
    "#for key in hlj[notdata].sum('ljpt').sum(\"flav\").values().keys():\n",
    "#    newkey = str(key).replace('(','').replace(',)','').replace(\"'\",\"\")\n",
    "#    norm[newkey] = hlj[datas].sum('ljpt').sum(\"flav\").values()[('Data',)] / hlj[notdata].sum('ljpt').sum(\"flav\").values()[key]\n",
    "hlj_nodatacopy=hlj[notdata]\n",
    "#hlj_nodatacopy.scale(norm,axis=\"dataset\")\n",
    "hlj_nodatacopy.scale(norm['sumMCall'])\n",
    "# hlj_nodatacopy.scale(231.7836728873188)\n",
    "\n",
    "\n",
    "fig, ((ax),(rax)) = plt.subplots(2, 1, figsize=(8, 6), gridspec_kw={\"height_ratios\": (3, 1)}, sharex=True)\n",
    "fig.subplots_adjust(hspace=.07)\n",
    "ax=plot.plot1d(hlj_nodatacopy.sum(\"dataset\"),overlay=\"flav\", ax=ax,  density=False, clear=False,stack=True)\n",
    "plot.plot1d(hlj[datas].sum(\"dataset\").sum(\"flav\"),error_opts=data_err_opts,ax=ax,density=False,clear=False)\n",
    "ax.legend(handles=ax.get_legend_handles_labels()[0],labels=['b','c','udsg','data'],fontsize=13)\n",
    "\n",
    "rax=plot.plotratio(\n",
    "                                        num=hlj[datas].sum(\"dataset\").sum(\"flav\"),\n",
    "                                        denom=hlj_nodatacopy.sum(\"dataset\").sum(\"flav\"),\n",
    "                                        ax=rax,\n",
    "                                        error_opts= data_err_opts,\n",
    "#                                         denom_fill_opts={'yerr':[ratio_up,ratio_dn]},\n",
    "                                        denom_fill_opts={},\n",
    "                                        guide_opts={},\n",
    "                                        unc='num',\n",
    "                                        clear=False)\n",
    "    \n",
    "\n",
    "ax.set_ylabel(\"Events\",fontsize=15)\n",
    "#ax.set_yscale('log')\n",
    "#ax.set_ylim(1,10000000)\n",
    "rax.set_ylabel('Data/MC',fontsize=15)\n",
    "ax.set_xlabel('ljpt')\n",
    "rax.set_xlabel('ljpt',fontsize=15)\n",
    "rax.set_ylim(0.0,2.0)\n",
    "#rax.set_yscale('log')\n"
   ]
  },
  {
   "cell_type": "code",
   "execution_count": null,
   "id": "84e77e3b",
   "metadata": {},
   "outputs": [],
   "source": [
    "hlj[notdata]"
   ]
  },
  {
   "cell_type": "code",
   "execution_count": null,
   "id": "c11ec7ec",
   "metadata": {},
   "outputs": [],
   "source": [
    "print(hlj_nodatacopy.sum(\"dataset\").sum('flav').sum('ljpt').values()[()])\n",
    "print(hlj[datas].sum(\"dataset\").sum(\"flav\").sum('ljpt').values()[()])\n",
    "events\n",
    "11400185.0/49184.59034662972"
   ]
  },
  {
   "cell_type": "code",
   "execution_count": null,
   "id": "0769463c",
   "metadata": {},
   "outputs": [],
   "source": [
    "#hlj[notdata].integrate('flav', Interval(0, 4))\n",
    "# coffea.hist\n",
    "#plot1d(hlj[notdata].integrate('flav', Interval(0, 4)), stack=True)\n",
    "plot1d(hlj[notdata].integrate('flav'))"
   ]
  },
  {
   "cell_type": "code",
   "execution_count": null,
   "id": "ee5b92c7",
   "metadata": {},
   "outputs": [],
   "source": []
  },
  {
   "cell_type": "code",
   "execution_count": null,
   "id": "66939e1d",
   "metadata": {},
   "outputs": [],
   "source": [
    "Ntt = np.sum(hlj[notdata].sum('eta').sum(\"flav\").values())\n",
    "N = np.sum(hlj[datas].sum('eta').sum(\"flav\").values())\n",
    "Ntt = [i for i in Ntt.values()] # the zeroth column entry is the number of events defined as a float\n",
    "N = [i for i in N.values()]\n",
    "norm=N[0]/Ntt\n",
    "norm = {'QCD_HT2000toInf': 4.56059025e+10,'QCD_HT1500to2000': 4.39239261e+09, 'QCD_HT1000to1500':6.86918614e+07,'QCD_HT500to700': 8.15042151e+06,\n",
    "      'QCD_HT500to700': 6.15260878e+05,'QCD_HT300to500': 3.17703133e+04}\n"
   ]
  },
  {
   "cell_type": "code",
   "execution_count": null,
   "id": "f5aae677",
   "metadata": {},
   "outputs": [],
   "source": []
  },
  {
   "cell_type": "code",
   "execution_count": null,
   "id": "df33000f",
   "metadata": {},
   "outputs": [],
   "source": [
    "norm = {}\n",
    "for key in hlj[notdata].sum('eta').sum(\"flav\").values().keys():\n",
    "    newkey = str(key).replace('(','').replace(',)','').replace(\"'\",\"\")\n",
    "    norm[newkey] = hlj[datas].sum('eta').sum(\"flav\").values()[('Data',)] / hlj[notdata].sum('eta').sum(\"flav\").values()[key]\n",
    "\n",
    "norm"
   ]
  },
  {
   "cell_type": "code",
   "execution_count": null,
   "id": "e9e2e3d2",
   "metadata": {},
   "outputs": [],
   "source": []
  },
  {
   "cell_type": "code",
   "execution_count": null,
   "id": "fcad4c7e",
   "metadata": {},
   "outputs": [],
   "source": [
    "plot1d(output_6['eta'])"
   ]
  },
  {
   "cell_type": "code",
   "execution_count": null,
   "id": "65d8f0fa",
   "metadata": {},
   "outputs": [],
   "source": [
    "x_sec = [347700,32100,6831,1207,119.9,25.24]\n",
    "nevents= [52778707,55152960,48158738,15446605,10938738,5320919]\n",
    "\n",
    "scales=[]\n",
    "for i in range(6):\n",
    "    scales.append(x_sec[i]/nevents[i])\n",
    "scales"
   ]
  },
  {
   "cell_type": "code",
   "execution_count": null,
   "id": "da76f29d",
   "metadata": {},
   "outputs": [],
   "source": [
    "for key in events:\n",
    "    "
   ]
  },
  {
   "cell_type": "code",
   "execution_count": null,
   "id": "a908b7c0",
   "metadata": {},
   "outputs": [],
   "source": [
    "plot1d(output_6['btagCMVA'])"
   ]
  },
  {
   "cell_type": "code",
   "execution_count": null,
   "id": "f4cdc132",
   "metadata": {},
   "outputs": [],
   "source": [
    "hist =output_1['ljpt'].integrate('dataset', 'QCD_HT')\n",
    "#MC_hist = hist.copy() \n",
    "hist.scale(scales[0])\n",
    "hist2 =output_2['ljpt'].integrate('dataset', 'QCD_HT')\n",
    "hist2.scale(scales[1])\n",
    "hist3 =output_3['ljpt'].integrate('dataset', 'QCD_HT')\n",
    "hist3.scale(scales[2])\n",
    "hist4 =output_4['ljpt'].integrate('dataset', 'QCD_HT')\n",
    "hist4.scale(scales[3])\n",
    "hist5 =output_5['ljpt'].integrate('dataset', 'QCD_HT')\n",
    "hist5.scale(scales[4])\n",
    "hist6 =output_6['ljpt'].integrate('dataset', 'QCD_HT')\n",
    "hist6.scale(scales[5])\n",
    "\n",
    "hist = (hist.add(hist2))\n",
    "hist = (hist.add(hist3))\n",
    "hist = (hist.add(hist4))\n",
    "hist = (hist.add(hist5))\n",
    "hist = (hist.add(hist6))\n",
    "\n",
    "a = plot1d(hist)\n",
    "a.set_ylim(1, None)\n",
    "a.set_xlim(175, 2000)\n",
    "a.set_yscale('log')"
   ]
  },
  {
   "cell_type": "code",
   "execution_count": null,
   "id": "6cd38d14",
   "metadata": {},
   "outputs": [],
   "source": []
  },
  {
   "cell_type": "code",
   "execution_count": null,
   "id": "9727fc61",
   "metadata": {},
   "outputs": [],
   "source": [
    "#plot1d(output_1['ljpt'])\n",
    "output = (output_1['ljpt'].integrate('dataset', 'QCD_HT').add(output_2['ljpt'].integrate('dataset', 'QCD_HT')))\n",
    "plot1d(output)"
   ]
  },
  {
   "cell_type": "code",
   "execution_count": null,
   "id": "e4261c2b",
   "metadata": {},
   "outputs": [],
   "source": []
  },
  {
   "cell_type": "code",
   "execution_count": null,
   "id": "e5452660",
   "metadata": {},
   "outputs": [],
   "source": [
    "hist =output_1['ljpt'].integrate('dataset', 'QCD_HT')\n",
    "#MC_hist = hist.copy() \n",
    "hist.scale(20)\n",
    "hist2 =output_2['ljpt'].integrate('dataset', 'QCD_HT')\n",
    "hist2.scale(20)\n",
    "output3 = (hist.add(hist2))\n",
    "plot1d(output3)"
   ]
  },
  {
   "cell_type": "code",
   "execution_count": null,
   "id": "432e31ec",
   "metadata": {},
   "outputs": [],
   "source": [
    "ax = plot1d(output_1['ljpt'])\n",
    "ax.set_ylim(1, 100)\n",
    "ax.set_xlim(0, 200)\n",
    "ax.set_yscale('log')\n"
   ]
  },
  {
   "cell_type": "code",
   "execution_count": null,
   "id": "de7bfea9",
   "metadata": {},
   "outputs": [],
   "source": [
    "plot1d(output_2['ljpt'].integrate('dataset', 'QCD_HT'))\n",
    "events=output_1['sumw']\n",
    "events"
   ]
  },
  {
   "cell_type": "code",
   "execution_count": null,
   "id": "d1cae4fb",
   "metadata": {},
   "outputs": [],
   "source": [
    "weights = output_1['ljpt'].values()[('QCD_HT',)]\n",
    "weights\n",
    "\n",
    "for i in range(len(weights)):\n",
    "    print(output_1['ljpt'].axis('ljpt').centers()[i], weights[i])"
   ]
  },
  {
   "cell_type": "code",
   "execution_count": null,
   "id": "ee284bde",
   "metadata": {},
   "outputs": [],
   "source": [
    "output_1['ljpt'].axis('ljpt').centers()#*np.where(output['ljpt'].values()[('inclusive_QCD',)]==0, 0, 1)"
   ]
  },
  {
   "cell_type": "code",
   "execution_count": null,
   "id": "f32be693",
   "metadata": {},
   "outputs": [],
   "source": [
    "np.repeat(output_1['ljpt'].axis('ljpt').centers(), np.array(weights, dtype=int))"
   ]
  },
  {
   "cell_type": "code",
   "execution_count": null,
   "id": "f9f8cb66",
   "metadata": {},
   "outputs": [],
   "source": [
    "import json\n",
    "f = open('QCD_samples.json')\n",
    "sample = json.load(f)\n",
    "for i in sample['Data']:\n",
    "    print(i)"
   ]
  },
  {
   "cell_type": "code",
   "execution_count": null,
   "id": "a49da2c6",
   "metadata": {},
   "outputs": [],
   "source": [
    "plt.style.use([hep.style.ROOT, {'font.size': 16}])\n",
    "\n",
    "# plot options for data\n",
    "data_err_opts = {\n",
    "    'linestyle': 'none',\n",
    "    'marker': '.',\n",
    "    'markersize': 10.,\n",
    "    'color': 'k',\n",
    "    'elinewidth': 1,\n",
    "}\n"
   ]
  },
  {
   "cell_type": "code",
   "execution_count": 4,
   "id": "f2b4e262",
   "metadata": {},
   "outputs": [
    {
     "name": "stdout",
     "output_type": "stream",
     "text": [
      "[[], [], [], [10], [20, 20]]\n",
      "[[0], [0], [0], [10], [20, 20]]\n"
     ]
    }
   ],
   "source": [
    "import awkward as ak\n",
    "a = ak.Array([0,0,0,1,2])\n",
    "b =ak.Array([[],[],[],[10],[20,20]])\n",
    "print(b)\n",
    "c = ak.where(ak.count(b, axis=-1)==0, [[0]], b)\n",
    "print(c)"
   ]
  },
  {
   "cell_type": "code",
   "execution_count": 5,
   "id": "51d26607",
   "metadata": {},
   "outputs": [
    {
     "data": {
      "text/plain": [
       "<Array [0, 0, 0, 1, 2] type='5 * int64'>"
      ]
     },
     "execution_count": 5,
     "metadata": {},
     "output_type": "execute_result"
    }
   ],
   "source": [
    "ak.count(b,axis=1)"
   ]
  },
  {
   "cell_type": "code",
   "execution_count": 6,
   "id": "28981f3d",
   "metadata": {},
   "outputs": [
    {
     "name": "stdout",
     "output_type": "stream",
     "text": [
      "[[], [], [], [1], [2, 2]]\n"
     ]
    }
   ],
   "source": [
    "print(ak.broadcast_arrays(a,b)[0])\n"
   ]
  },
  {
   "cell_type": "code",
   "execution_count": 7,
   "id": "d6e48409",
   "metadata": {},
   "outputs": [],
   "source": [
    "d = ak.broadcast_arrays(a,c)[0]"
   ]
  },
  {
   "cell_type": "code",
   "execution_count": 8,
   "id": "f2e1d82a",
   "metadata": {},
   "outputs": [
    {
     "name": "stdout",
     "output_type": "stream",
     "text": [
      "[[0], [0], [0], [1], [2, 2]]\n"
     ]
    }
   ],
   "source": [
    "print(d)\n"
   ]
  },
  {
   "cell_type": "code",
   "execution_count": 9,
   "id": "7c6487b8",
   "metadata": {},
   "outputs": [
    {
     "name": "stdout",
     "output_type": "stream",
     "text": [
      "[1, 1, 1, 1, 2]\n"
     ]
    }
   ],
   "source": [
    "print(ak.count(d, axis = -1))"
   ]
  },
  {
   "cell_type": "code",
   "execution_count": 10,
   "id": "7fe25790",
   "metadata": {},
   "outputs": [
    {
     "data": {
      "text/plain": [
       "<Array [0, 0, 0, 1, 2, 2] type='6 * int64'>"
      ]
     },
     "execution_count": 10,
     "metadata": {},
     "output_type": "execute_result"
    }
   ],
   "source": [
    "ak.flatten(d)"
   ]
  },
  {
   "cell_type": "code",
   "execution_count": 33,
   "id": "acf5f9af",
   "metadata": {},
   "outputs": [
    {
     "data": {
      "text/plain": [
       "<Array [[None], [None], ... [10], [20, 20]] type='5 * var * ?int64'>"
      ]
     },
     "execution_count": 33,
     "metadata": {},
     "output_type": "execute_result"
    }
   ],
   "source": [
    "f = ak.Array([[None],[None],[None],[10],[20,20]])\n",
    "f"
   ]
  },
  {
   "cell_type": "code",
   "execution_count": 34,
   "id": "9fe2cec2",
   "metadata": {},
   "outputs": [
    {
     "data": {
      "text/plain": [
       "<Array [None, None, None, 10, 20, 20] type='6 * ?int64'>"
      ]
     },
     "execution_count": 34,
     "metadata": {},
     "output_type": "execute_result"
    }
   ],
   "source": [
    "ak.flatten(f)"
   ]
  },
  {
   "cell_type": "code",
   "execution_count": 35,
   "id": "734c22ea",
   "metadata": {},
   "outputs": [
    {
     "data": {
      "image/png": "[encoded data removed]",
      "text/plain": [
       "<Figure size 432x288 with 1 Axes>"
      ]
     },
     "metadata": {
      "needs_background": "light"
     },
     "output_type": "display_data"
    }
   ],
   "source": [
    "%matplotlib inline\n",
    "import matplotlib.pyplot as plt\n",
    "\n",
    "# notice the semicolon, which prevents display of the return values\n",
    "plt.hist(ak.flatten(f));"
   ]
  },
  {
   "cell_type": "code",
   "execution_count": 50,
   "id": "03cd5a2f",
   "metadata": {},
   "outputs": [
    {
     "name": "stdout",
     "output_type": "stream",
     "text": [
      "[[], [], [], [10], [20, 20]]\n",
      "[[None], [None], [None], [10], [20, 20]]\n"
     ]
    }
   ],
   "source": [
    "a = ak.Array([0,0,0,1,2])\n",
    "b =ak.Array([[],[],[],[10],[20,20]])\n",
    "print(b)\n",
    "c = ak.where(ak.count(b, axis=1)==0, [[None]], b)\n",
    "print(c)\n"
   ]
  },
  {
   "cell_type": "code",
   "execution_count": null,
   "id": "b1da6012",
   "metadata": {},
   "outputs": [],
   "source": []
  },
  {
   "cell_type": "code",
   "execution_count": null,
   "id": "9b70ad6c",
   "metadata": {},
   "outputs": [],
   "source": []
  },
  {
   "cell_type": "code",
   "execution_count": null,
   "id": "7c4b57a7",
   "metadata": {},
   "outputs": [],
   "source": []
  },
  {
   "cell_type": "code",
   "execution_count": null,
   "id": "e21cc20d",
   "metadata": {},
   "outputs": [],
   "source": []
  }
 ],
 "metadata": {
  "kernelspec": {
   "display_name": "Python 3 (ipykernel)",
   "language": "python",
   "name": "python3"
  },
  "language_info": {
   "codemirror_mode": {
    "name": "ipython",
    "version": 3
   },
   "file_extension": ".py",
   "mimetype": "text/x-python",
   "name": "python",
   "nbconvert_exporter": "python",
   "pygments_lexer": "ipython3",
   "version": "3.7.11"
  }
 },
 "nbformat": 4,
 "nbformat_minor": 5
}
